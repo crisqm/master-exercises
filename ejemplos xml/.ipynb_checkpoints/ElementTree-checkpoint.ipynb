{
 "cells": [
  {
   "cell_type": "code",
   "execution_count": 1,
   "metadata": {},
   "outputs": [
    {
     "name": "stdout",
     "output_type": "stream",
     "text": [
      "<xml.etree.ElementTree.ElementTree object at 0x104217e10>\n"
     ]
    }
   ],
   "source": [
    "from xml.etree import ElementTree\n",
    "f=open(\"catalogo_libros.xml\", \"rt\")\n",
    "arbol=ElementTree.parse(f)\n",
    "print(arbol)"
   ]
  },
  {
   "cell_type": "code",
   "execution_count": 2,
   "metadata": {},
   "outputs": [
    {
     "name": "stdout",
     "output_type": "stream",
     "text": [
      "catalogo {}\n",
      "Libro {'isbn': '0-596-00128-2'}\n",
      "titulo {}\n",
      "fecha {}\n",
      "autor {}\n",
      "Libro {'isbn': '0-596-15810-6'}\n",
      "titulo {}\n",
      "fecha {}\n",
      "autor {}\n",
      "Libro {'isbn': '0-596-15806-8'}\n",
      "titulo {}\n",
      "fecha {}\n",
      "autor {}\n"
     ]
    }
   ],
   "source": [
    "for nodo in arbol.iter():\n",
    "    print(nodo.tag, nodo.attrib)"
   ]
  },
  {
   "cell_type": "code",
   "execution_count": 4,
   "metadata": {},
   "outputs": [
    {
     "name": "stdout",
     "output_type": "stream",
     "text": [
      "Libro 1  con isbn: 0-596-00128-2\n",
      "Libro 2  con isbn: 0-596-15810-6\n",
      "Libro 3  con isbn: 0-596-15806-8\n"
     ]
    }
   ],
   "source": [
    "i=1\n",
    "for nodo in arbol.iter(\"Libro\"):\n",
    "    isbn=nodo.attrib.get(\"isbn\")\n",
    "    print(nodo.tag, i, \" con isbn:\", isbn)\n",
    "    i=i+1"
   ]
  },
  {
   "cell_type": "code",
   "execution_count": 5,
   "metadata": {},
   "outputs": [
    {
     "name": "stdout",
     "output_type": "stream",
     "text": [
      "catalogo   {}\n",
      "Libro   {'isbn': '0-596-00128-2'}\n",
      "Libro   {'isbn': '0-596-15810-6'}\n",
      "Libro   {'isbn': '0-596-15806-8'}\n"
     ]
    }
   ],
   "source": [
    "import xml.etree.ElementTree as ET\n",
    "arbol=ET.parse(\"catalogo_libros.xml\")\n",
    "raiz=arbol.getroot()\n",
    "print(raiz.tag, \" \", raiz.attrib)\n",
    "for hijo in raiz:\n",
    "    print(hijo.tag, \" \", hijo.attrib)"
   ]
  },
  {
   "cell_type": "code",
   "execution_count": 6,
   "metadata": {},
   "outputs": [
    {
     "name": "stdout",
     "output_type": "stream",
     "text": [
      "Titutlo:  Python y XML\n"
     ]
    }
   ],
   "source": [
    "print(\"Titutlo: \", raiz[0][0].text)"
   ]
  },
  {
   "cell_type": "code",
   "execution_count": 7,
   "metadata": {},
   "outputs": [
    {
     "name": "stdout",
     "output_type": "stream",
     "text": [
      "Titulo:  1   Python y XML\n",
      "Titulo:  2   Programacion avanzada de XML\n",
      "Titulo:  3   Aprendiendo Java\n"
     ]
    }
   ],
   "source": [
    "from xml.etree import ElementTree\n",
    "f=open(\"catalogo_libros.xml\", \"rt\")\n",
    "arbol=ElementTree.parse(f)\n",
    "i=1\n",
    "for nodo in arbol.findall(\"./Libro/titulo\"):\n",
    "    print(\"Titulo: \", i, \" \", nodo.text)\n",
    "    i=i+1"
   ]
  },
  {
   "cell_type": "code",
   "execution_count": 9,
   "metadata": {},
   "outputs": [
    {
     "name": "stdout",
     "output_type": "stream",
     "text": [
      "****Libro****\n",
      "isbn:  0-596-00128-2\n",
      "Titulo:  Python y XML\n",
      "Fecha:  Diciembre 2001\n",
      "Autor:  Pepito Perez\n",
      "****Libro****\n",
      "isbn:  0-596-15810-6\n",
      "Titulo:  Programacion avanzada de XML\n",
      "Fecha:  Octubre 2010\n",
      "Autor:  Juan Garcia\n",
      "****Libro****\n",
      "isbn:  0-596-15806-8\n",
      "Titulo:  Aprendiendo Java\n",
      "Fecha:  Septiembre 2009\n",
      "Autor:  Juan Garcia\n"
     ]
    }
   ],
   "source": [
    "from xml.etree.ElementTree import iterparse\n",
    "\n",
    "for(event, element) in iterparse(\"catalogo_libros.xml\", (\"start\", \"end\")):\n",
    "    if event==\"start\":\n",
    "        if element.tag==\"Libro\":\n",
    "            print(\"****Libro****\")\n",
    "            print(\"isbn: \", element.attrib[\"isbn\"])\n",
    "    if event==\"end\":\n",
    "        if element.tag==\"titulo\":\n",
    "            print(\"Titulo: \", element.text)\n",
    "        if element.tag==\"fecha\":\n",
    "            print(\"Fecha: \", element.text)\n",
    "        if element.tag==\"autor\":\n",
    "            print(\"Autor: \", element.text)"
   ]
  },
  {
   "cell_type": "code",
   "execution_count": null,
   "metadata": {},
   "outputs": [],
   "source": []
  }
 ],
 "metadata": {
  "kernelspec": {
   "display_name": "Python 3",
   "language": "python",
   "name": "python3"
  },
  "language_info": {
   "codemirror_mode": {
    "name": "ipython",
    "version": 3
   },
   "file_extension": ".py",
   "mimetype": "text/x-python",
   "name": "python",
   "nbconvert_exporter": "python",
   "pygments_lexer": "ipython3",
   "version": "3.6.4"
  }
 },
 "nbformat": 4,
 "nbformat_minor": 2
}
