{
 "cells": [
  {
   "cell_type": "code",
   "execution_count": 1,
   "metadata": {},
   "outputs": [],
   "source": [
    "# **************************************************\n",
    "# 1. Se crea un corpus de frases de ejemplo.\n",
    "# **************************************************\n",
    "corpus = [\"Me pones un pincho de tortilla, por favor?\",\n",
    "          \"quiero una pizza margherita\"]"
   ]
  },
  {
   "cell_type": "code",
   "execution_count": 2,
   "metadata": {},
   "outputs": [],
   "source": [
    "# **************************************************\n",
    "# 2. Después, se debe entrenar un tagger para el español.\n",
    "# **************************************************\n",
    "from nltk.corpus import cess_esp\n",
    "\n",
    "sents = cess_esp.tagged_sents()\n",
    "\n",
    "training = []\n",
    "test = []\n",
    "for i in range(len(sents)):\n",
    "    if i % 10:\n",
    "        training.append(sents[i])\n",
    "    else:\n",
    "        test.append(sents[i])\n",
    "        \n",
    "#from nltk import UnigramTagger, BigramTagger, TrigramTagger, DefaultTagger\n",
    "from nltk.tag.hmm import HiddenMarkovModelTagger\n",
    "\n",
    "#default_tagger = DefaultTagger ('NLTK_FASHION')\n",
    "#unigram_tagger = UnigramTagger(training, backoff=default_tagger)\n",
    "#bigram_tagger = BigramTagger(training, backoff=unigram_tagger)\n",
    "#trigram_tagger = TrigramTagger(training, backoff=bigram_tagger)\n",
    "#hmm tagger\n",
    "spanish_pos_tagger = HiddenMarkovModelTagger.train(training)"
   ]
  },
  {
   "cell_type": "code",
   "execution_count": 47,
   "metadata": {},
   "outputs": [],
   "source": [
    "# **************************************************\n",
    "# 3. Ahora, se debe construir un Regex Parser que detecte comidas y cantidades.\n",
    "# **************************************************\n",
    "\n",
    "grammar = r\"\"\" \n",
    "\n",
    "  pedido: {<Z|di0fs0|dn0cp0><ncmp000|ncfs000>}\n",
    "\n",
    "\"\"\"\n",
    "\n",
    "import nltk\n",
    "regex_parser = nltk.RegexpParser(grammar)"
   ]
  },
  {
   "cell_type": "code",
   "execution_count": 48,
   "metadata": {},
   "outputs": [
    {
     "name": "stdout",
     "output_type": "stream",
     "text": [
      "[('quisiera', 'da0mp0'), ('1', 'Z'), ('bocadillo', 'ncmp000'), ('de', 'sps00'), ('tortilla', 'ncfs000')]\n"
     ]
    },
    {
     "data": {
      "image/png": "[encoded data removed]",
      "text/plain": [
       "Tree('S', [('quisiera', 'da0mp0'), Tree('pedido', [('1', 'Z'), ('bocadillo', 'ncmp000')]), ('de', 'sps00'), ('tortilla', 'ncfs000')])"
      ]
     },
     "execution_count": 48,
     "metadata": {},
     "output_type": "execute_result"
    }
   ],
   "source": [
    "# **************************************************\n",
    "# 4. Se usa el pos tagger y el Regex Parser para obtener las IOB de una nueva frase.\n",
    "# **************************************************\n",
    "\n",
    "sentence = \"quisiera 1 bocadillo de tortilla\"\n",
    "\n",
    "#sentence = \"me gustaría tomar una pizza margherita\"\n",
    "\n",
    "#sentence = \"quiero 3 bocadillos de anchoas y 2 pizzas\"\n",
    "\n",
    "#sentence = \"quiero tres bocadillos de anchoas y dos pizzas\"\n",
    "\n",
    "sentence_tokens = nltk.word_tokenize(sentence)\n",
    "\n",
    "tagged_sentence = spanish_pos_tagger.tag(sentence_tokens)\n",
    "\n",
    "print(tagged_sentence)\n",
    "\n",
    "regex_parser.parse(tagged_sentence)"
   ]
  },
  {
   "cell_type": "markdown",
   "metadata": {},
   "source": [
    "Con estos pasos, ya tendríamos cubierta la versión básica de la práctica.\n",
    "No obstante, por último, se sugiere al alumno que use el pos tagger y el Regex Parser para crear un corpus IOB que sirva para entrenar los bigram taggers o el NaiveBayesClassifier:\n",
    "parsedCorpus = []\n",
    "for sentence in corpus:\n",
    "        sentence_tokens = ….tokenize(sentence)\n",
    "\n",
    "        tagged_sentence = spanish_pos_tagger.tag(sentence_tokens)\n",
    "\n",
    "        …….\n",
    "\n",
    "        print(token,IOB_tag)\n",
    "Los códigos de los algoritmos Unigram, Bigram y NaiveBayes los podemos encontrar en el capítulo 7 del libro de NLTK: Steven Bird, Ewan Klein and Edward Loper. “7. Extracting Information from Text”. Natural Language Processing with Python. [En línea] URL disponible en: http://www.nltk.org/book/ch07.html"
   ]
  },
  {
   "cell_type": "code",
   "execution_count": null,
   "metadata": {},
   "outputs": [],
   "source": [
    "print ('Acierto con HMMs:', spanish_pos_tagger.evaluate(test)*100)"
   ]
  }
 ],
 "metadata": {
  "kernelspec": {
   "display_name": "Python 3",
   "language": "python",
   "name": "python3"
  },
  "language_info": {
   "codemirror_mode": {
    "name": "ipython",
    "version": 3
   },
   "file_extension": ".py",
   "mimetype": "text/x-python",
   "name": "python",
   "nbconvert_exporter": "python",
   "pygments_lexer": "ipython3",
   "version": "3.6.4"
  }
 },
 "nbformat": 4,
 "nbformat_minor": 2
}
