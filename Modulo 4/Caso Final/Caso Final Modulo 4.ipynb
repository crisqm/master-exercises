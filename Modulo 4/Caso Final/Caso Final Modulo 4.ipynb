{
 "cells": [
  {
   "cell_type": "code",
   "execution_count": 1,
   "metadata": {},
   "outputs": [],
   "source": [
    "# **************************************************\n",
    "# 1. Se crea un corpus de frases de ejemplo.\n",
    "# **************************************************\n",
    "corpus = [\"quiero una pizza margherita\",\n",
    "          \"quisiera 1 bocadillo de tortilla\",\n",
    "          \"tomare una pizza carbonara\",\n",
    "          \"quiero 3 bocadillos de anchoas y 2 pizzas\",\n",
    "          \"quiero tres bocadillos de anchoas y dos pizzas\",\n",
    "          \"quiero una hamburguesa con queso\",\n",
    "          \"yo quiero dos hamburguesas completas\",\n",
    "          \"quiero una ensalada mixta\",\n",
    "          \"quiero un pastel de cabracho\",\n",
    "          \"quiero una pizza carbonara y una pizza romana\",\n",
    "          \"quiero una tostada con tomate\",\n",
    "          \"tomare una pizza calzone\",\n",
    "          \"tomare un canape de pate\",\n",
    "          \"quiero calamares en su tinta\",\n",
    "          \"tomare una hamburguesa sin cebolla\",\n",
    "          \"quiero un colacao\",\n",
    "          \"quiero un cafe con leche\",\n",
    "          \"quiero un pollo asado\"]"
   ]
  },
  {
   "cell_type": "code",
   "execution_count": 2,
   "metadata": {},
   "outputs": [
    {
     "name": "stderr",
     "output_type": "stream",
     "text": [
      "/anaconda3/lib/python3.6/importlib/_bootstrap.py:219: RuntimeWarning: numpy.dtype size changed, may indicate binary incompatibility. Expected 96, got 88\n",
      "  return f(*args, **kwds)\n",
      "/anaconda3/lib/python3.6/importlib/_bootstrap.py:219: RuntimeWarning: numpy.dtype size changed, may indicate binary incompatibility. Expected 96, got 88\n",
      "  return f(*args, **kwds)\n"
     ]
    }
   ],
   "source": [
    "# **************************************************\n",
    "# 2. Después, se debe entrenar un tagger para el español.\n",
    "# **************************************************\n",
    "from nltk.corpus import cess_esp\n",
    "\n",
    "sents = cess_esp.tagged_sents()\n",
    "\n",
    "training = []\n",
    "test = []\n",
    "for i in range(len(sents)):\n",
    "    if i % 10:\n",
    "        training.append(sents[i])\n",
    "    else:\n",
    "        test.append(sents[i])\n",
    "        \n",
    "from nltk.tag.hmm import HiddenMarkovModelTagger\n",
    "\n",
    "#hmm tagger\n",
    "spanish_pos_tagger = HiddenMarkovModelTagger.train(training)"
   ]
  },
  {
   "cell_type": "code",
   "execution_count": 3,
   "metadata": {},
   "outputs": [],
   "source": [
    "# **************************************************\n",
    "# 3. Ahora, se debe construir un Regex Parser que detecte comidas y cantidades.\n",
    "# **************************************************\n",
    "\n",
    "grammar = r\"\"\" \n",
    "\n",
    "  cantidad: {<Z|di0fs0|dn0cp0|di0ms0>}\n",
    "  \n",
    "  comida: {<ncmp000|ncfs000|ncms000>}\n",
    "          \n",
    "\"\"\"\n",
    "\n",
    "import nltk\n",
    "regex_parser = nltk.RegexpParser(grammar)"
   ]
  },
  {
   "cell_type": "code",
   "execution_count": 4,
   "metadata": {},
   "outputs": [
    {
     "name": "stdout",
     "output_type": "stream",
     "text": [
      "Acierto con HMMs: 89.88905831011094\n"
     ]
    }
   ],
   "source": [
    "# **************************************************\n",
    "# 4. Se usa el pos tagger y el Regex Parser para obtener las IOB de una nueva frase.\n",
    "# **************************************************\n",
    "sentence = \"yo queria un gazpacho\"\n",
    "\n",
    "sentence_tokens = nltk.word_tokenize(sentence)\n",
    "\n",
    "tagged_sentence = spanish_pos_tagger.tag(sentence_tokens)\n",
    "\n",
    "#print(tagged_sentence)\n",
    "\n",
    "chunked = regex_parser.parse(tagged_sentence)\n",
    "\n",
    "#print(chunked)\n",
    "print ('Acierto con HMMs:', spanish_pos_tagger.evaluate(test)*100)"
   ]
  },
  {
   "cell_type": "code",
   "execution_count": 5,
   "metadata": {},
   "outputs": [],
   "source": [
    "#Uso del pos tagger y el Regex Parser para crear un corpus IOB \n",
    "#que sirve para entrenar los bigram taggers o el NaiveBayesClassifier:\n",
    "\n",
    "parsedCorpus = []\n",
    "for sentence in corpus:\n",
    "    sentence_tokens = nltk.word_tokenize(sentence)\n",
    "\n",
    "    tagged_sentence = spanish_pos_tagger.tag(sentence_tokens)\n",
    "\n",
    "    #print(tagged_sentence)\n",
    "\n",
    "    chunked = regex_parser.parse(tagged_sentence)\n",
    "\n",
    "    #print(chunked)\n",
    "\n",
    "    parsedCorpus.append(chunked)\n",
    "    #print(token,IOB_tag)"
   ]
  },
  {
   "cell_type": "code",
   "execution_count": 6,
   "metadata": {},
   "outputs": [],
   "source": [
    "#Creacion de un conjunto de frases de entrenamiento de de test \n",
    "#para los UnigramChunker, BigramChunker y NaiveBayesClassifier\n",
    "train_sents = []\n",
    "test_sents = []\n",
    "for i in range(len(parsedCorpus)):\n",
    "    if i % 10:\n",
    "        train_sents.append(parsedCorpus[i])\n",
    "    else:\n",
    "        test_sents.append(parsedCorpus[i])"
   ]
  },
  {
   "cell_type": "code",
   "execution_count": 7,
   "metadata": {},
   "outputs": [
    {
     "name": "stdout",
     "output_type": "stream",
     "text": [
      "ChunkParse score:\n",
      "    IOB Accuracy: 100.0%%\n",
      "    Precision:    100.0%%\n",
      "    Recall:       100.0%%\n",
      "    F-Measure:    100.0%%\n"
     ]
    }
   ],
   "source": [
    "#UnigramChunker\n",
    "class UnigramChunker(nltk.ChunkParserI):\n",
    "    def __init__(self, train_sents):\n",
    "        train_data = [[(t,c) for w,t,c in nltk.chunk.tree2conlltags(sent)]\n",
    "                      for sent in train_sents]\n",
    "        self.tagger = nltk.UnigramTagger(train_data)\n",
    "\n",
    "    def parse(self, sentence):\n",
    "        pos_tags = [pos for (word,pos) in sentence]\n",
    "        tagged_pos_tags = self.tagger.tag(pos_tags)\n",
    "        chunktags = [chunktag for (pos, chunktag) in tagged_pos_tags]\n",
    "        conlltags = [(word, pos, chunktag) for ((word,pos),chunktag)\n",
    "                     in zip(sentence, chunktags)]\n",
    "        return nltk.chunk.conlltags2tree(conlltags)\n",
    "    \n",
    "unigram_chunker = UnigramChunker(train_sents)\n",
    "print(unigram_chunker.evaluate(test_sents))"
   ]
  },
  {
   "cell_type": "code",
   "execution_count": 8,
   "metadata": {},
   "outputs": [
    {
     "name": "stdout",
     "output_type": "stream",
     "text": [
      "ChunkParse score:\n",
      "    IOB Accuracy: 100.0%%\n",
      "    Precision:    100.0%%\n",
      "    Recall:       100.0%%\n",
      "    F-Measure:    100.0%%\n"
     ]
    }
   ],
   "source": [
    "#BigramChunker\n",
    "class BigramChunker(nltk.ChunkParserI):\n",
    "    def __init__(self, train_sents):\n",
    "        train_data = [[(t,c) for w,t,c in nltk.chunk.tree2conlltags(sent)]\n",
    "                      for sent in train_sents]\n",
    "        self.tagger = nltk.BigramTagger(train_data)\n",
    "\n",
    "    def parse(self, sentence):\n",
    "        pos_tags = [pos for (word,pos) in sentence]\n",
    "        tagged_pos_tags = self.tagger.tag(pos_tags)\n",
    "        chunktags = [chunktag for (pos, chunktag) in tagged_pos_tags]\n",
    "        conlltags = [(word, pos, chunktag) for ((word,pos),chunktag)\n",
    "                     in zip(sentence, chunktags)]\n",
    "        return nltk.chunk.conlltags2tree(conlltags)\n",
    "    \n",
    "bigram_chunker = BigramChunker(train_sents)\n",
    "print(bigram_chunker.evaluate(test_sents))"
   ]
  },
  {
   "cell_type": "code",
   "execution_count": 9,
   "metadata": {},
   "outputs": [],
   "source": [
    "#NaiveBayes\n",
    "class ConsecutiveNPChunkTagger(nltk.TaggerI):\n",
    "\n",
    "    def __init__(self, train_sents):\n",
    "        train_set = []\n",
    "        for tagged_sent in train_sents:\n",
    "            untagged_sent = nltk.tag.untag(tagged_sent)\n",
    "            history = []\n",
    "            for i, (word, tag) in enumerate(tagged_sent):\n",
    "                featureset = npchunk_features(untagged_sent, i, history)\n",
    "                train_set.append( (featureset, tag) )\n",
    "                history.append(tag)\n",
    "        self.classifier = nltk.NaiveBayesClassifier.train(\n",
    "            train_set)\n",
    "\n",
    "    def tag(self, sentence):\n",
    "        history = []\n",
    "        for i, word in enumerate(sentence):\n",
    "            featureset = npchunk_features(sentence, i, history)\n",
    "            tag = self.classifier.classify(featureset)\n",
    "            history.append(tag)\n",
    "        return zip(sentence, history)\n",
    "\n",
    "class ConsecutiveNPChunker(nltk.ChunkParserI):\n",
    "    def __init__(self, train_sents):\n",
    "        tagged_sents = [[((w,t),c) for (w,t,c) in\n",
    "                         nltk.chunk.tree2conlltags(sent)]\n",
    "                        for sent in train_sents]\n",
    "        self.tagger = ConsecutiveNPChunkTagger(tagged_sents)\n",
    "\n",
    "    def parse(self, sentence):\n",
    "        tagged_sents = self.tagger.tag(sentence)\n",
    "        conlltags = [(w,t,c) for ((w,t),c) in tagged_sents]\n",
    "        return nltk.chunk.conlltags2tree(conlltags)"
   ]
  },
  {
   "cell_type": "code",
   "execution_count": 10,
   "metadata": {},
   "outputs": [
    {
     "name": "stdout",
     "output_type": "stream",
     "text": [
      "ChunkParse score:\n",
      "    IOB Accuracy: 100.0%%\n",
      "    Precision:    100.0%%\n",
      "    Recall:       100.0%%\n",
      "    F-Measure:    100.0%%\n"
     ]
    }
   ],
   "source": [
    "def npchunk_features(sentence, i, history):\n",
    "    word, pos = sentence[i]\n",
    "    return {\"pos\": pos}\n",
    "chunker = ConsecutiveNPChunker(train_sents)\n",
    "print(chunker.evaluate(test_sents))"
   ]
  }
 ],
 "metadata": {
  "kernelspec": {
   "display_name": "Python 3",
   "language": "python",
   "name": "python3"
  },
  "language_info": {
   "codemirror_mode": {
    "name": "ipython",
    "version": 3
   },
   "file_extension": ".py",
   "mimetype": "text/x-python",
   "name": "python",
   "nbconvert_exporter": "python",
   "pygments_lexer": "ipython3",
   "version": "3.6.6"
  }
 },
 "nbformat": 4,
 "nbformat_minor": 2
}
