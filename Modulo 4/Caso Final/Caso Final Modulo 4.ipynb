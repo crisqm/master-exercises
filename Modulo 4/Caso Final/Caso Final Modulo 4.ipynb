{
 "cells": [
  {
   "cell_type": "code",
   "execution_count": 1,
   "metadata": {},
   "outputs": [],
   "source": [
    "# **************************************************\n",
    "# 1. Se crea un corpus de frases de ejemplo.\n",
    "# **************************************************\n",
    "corpus = [\"quiero una pizza margherita\",\n",
    "          \"quisiera 1 bocadillo\",\n",
    "          \"tomare una pizza carbonara\",\n",
    "          \"quiero 3 bocadillos de anchoas y 2 pizzas\",\n",
    "          \"quiero tres bocadillos de anchoas y dos pizzas\",\n",
    "          \"quiero una hamburguesa con queso\",\n",
    "          \"yo quiero dos hamburguesas completas\",\n",
    "          \"quiero una ensalada mixta\",\n",
    "          \"quiero un pastel de cabracho\",\n",
    "          \"quiero una pizza carbonara y una pizza romana\",\n",
    "          \"quiero una tostada con tomate\",\n",
    "          \"tomare una pizza calzone\",\n",
    "          \"tomare un canape de pate\",\n",
    "          \"quiero calamares\",\n",
    "          \"tomare una hamburguesa sin cebolla\",\n",
    "          \"quiero un colacao\",\n",
    "          \"quiero un cafe solo\",\n",
    "          \"quiero un pollo asado\"]"
   ]
  },
  {
   "cell_type": "code",
   "execution_count": 2,
   "metadata": {},
   "outputs": [
    {
     "name": "stderr",
     "output_type": "stream",
     "text": [
      "/anaconda3/lib/python3.6/importlib/_bootstrap.py:219: RuntimeWarning: numpy.dtype size changed, may indicate binary incompatibility. Expected 96, got 88\n",
      "  return f(*args, **kwds)\n",
      "/anaconda3/lib/python3.6/importlib/_bootstrap.py:219: RuntimeWarning: numpy.dtype size changed, may indicate binary incompatibility. Expected 96, got 88\n",
      "  return f(*args, **kwds)\n"
     ]
    }
   ],
   "source": [
    "# **************************************************\n",
    "# 2. Después, se debe entrenar un tagger para el español.\n",
    "# **************************************************\n",
    "from nltk.corpus import cess_esp\n",
    "\n",
    "sents = cess_esp.tagged_sents()\n",
    "\n",
    "training = []\n",
    "test = []\n",
    "for i in range(len(sents)):\n",
    "    if i % 10:\n",
    "        training.append(sents[i])\n",
    "    else:\n",
    "        test.append(sents[i])\n",
    "        \n",
    "from nltk.tag.hmm import HiddenMarkovModelTagger\n",
    "\n",
    "#hmm tagger\n",
    "spanish_pos_tagger = HiddenMarkovModelTagger.train(training)"
   ]
  },
  {
   "cell_type": "code",
   "execution_count": 3,
   "metadata": {},
   "outputs": [],
   "source": [
    "# **************************************************\n",
    "# 3. Ahora, se debe construir un Regex Parser que detecte comidas y cantidades.\n",
    "# **************************************************\n",
    "\n",
    "grammar = r\"\"\" \n",
    "\n",
    "  comida: {<ncmp000|ncfs000|ncms000|ncfp000>}\n",
    "  \n",
    "  cantidad: {<Z|di0fs0|dn0cp0|di0ms0>}\n",
    "          \n",
    "\"\"\"\n",
    "\n",
    "import nltk\n",
    "regex_parser = nltk.RegexpParser(grammar)"
   ]
  },
  {
   "cell_type": "code",
   "execution_count": 4,
   "metadata": {},
   "outputs": [
    {
     "name": "stdout",
     "output_type": "stream",
     "text": [
      "Acierto con HMMs: 89.88905831011094\n"
     ]
    }
   ],
   "source": [
    "# **************************************************\n",
    "# 4. Se usa el pos tagger y el Regex Parser para obtener las IOB de una nueva frase.\n",
    "# **************************************************\n",
    "sentence = \"yo queria un gazpacho\"\n",
    "\n",
    "sentence_tokens = nltk.word_tokenize(sentence)\n",
    "\n",
    "tagged_sentence = spanish_pos_tagger.tag(sentence_tokens)\n",
    "\n",
    "#print(tagged_sentence)\n",
    "\n",
    "chunked = regex_parser.parse(tagged_sentence)\n",
    "\n",
    "#print(chunked)\n",
    "\n",
    "print ('Acierto con HMMs:', spanish_pos_tagger.evaluate(test)*100)"
   ]
  },
  {
   "cell_type": "code",
   "execution_count": 5,
   "metadata": {},
   "outputs": [],
   "source": [
    "# **************************************************\n",
    "# 5. Uso del pos tagger y el Regex Parser para crear un primer corpus IOB \n",
    "# **************************************************\n",
    "parsedCorpus = []\n",
    "for sentence in corpus:\n",
    "    sentence_tokens = nltk.word_tokenize(sentence)\n",
    "\n",
    "    tagged_sentence = spanish_pos_tagger.tag(sentence_tokens)\n",
    "\n",
    "    #print(tagged_sentence)\n",
    "\n",
    "    chunked = regex_parser.parse(tagged_sentence)\n",
    "\n",
    "    #print(chunked)\n",
    "\n",
    "    parsedCorpus.append(chunked)"
   ]
  },
  {
   "cell_type": "code",
   "execution_count": 6,
   "metadata": {},
   "outputs": [],
   "source": [
    "# **************************************************\n",
    "# 6. Creacion del corpus IOB definitivo manualmente en dos ficheros de entrenamiento y test\n",
    "# **************************************************\n",
    "size = int(len(parsedCorpus) * 0.2)\n",
    "\n",
    "with open('train.txt', 'w') as train:\n",
    "    for i in range(len(parsedCorpus[size:])):\n",
    "        parsedSent = nltk.chunk.tree2conlltags(parsedCorpus[i])\n",
    "        for w,t,c in parsedSent:\n",
    "            train.write(w + \" \" + t + \" \" + c + '\\n')\n",
    "        train.write('\\n')\n",
    "\n",
    "with open('test.txt', 'w') as test:\n",
    "    for i in range(len(parsedCorpus[:size])):\n",
    "        parsedSent = nltk.chunk.tree2conlltags(parsedCorpus[i])\n",
    "        for w,t,c in parsedSent:\n",
    "            test.write(w + \" \" + t + \" \" + c + '\\n')\n",
    "        test.write('\\n')"
   ]
  },
  {
   "cell_type": "code",
   "execution_count": 7,
   "metadata": {},
   "outputs": [
    {
     "name": "stdout",
     "output_type": "stream",
     "text": [
      "ChunkParse score:\n",
      "    IOB Accuracy:  86.5%%\n",
      "    Precision:     74.3%%\n",
      "    Recall:        86.4%%\n",
      "    F-Measure:     79.9%%\n"
     ]
    }
   ],
   "source": [
    "# **************************************************\n",
    "# 7. Entrenamiento y evaluacion de UnigramTagger\n",
    "# **************************************************\n",
    "class UnigramChunker(nltk.ChunkParserI):\n",
    "    def __init__(self, train_sents):\n",
    "        train_data = [[(t,c) for w,t,c in nltk.chunk.tree2conlltags(sent)]\n",
    "                      for sent in train_sents]\n",
    "        self.tagger = nltk.UnigramTagger(train_data)\n",
    "\n",
    "    def parse(self, sentence):\n",
    "        pos_tags = [pos for (word,pos) in sentence]\n",
    "        tagged_pos_tags = self.tagger.tag(pos_tags)\n",
    "        chunktags = [chunktag for (pos, chunktag) in tagged_pos_tags]\n",
    "        conlltags = [(word, pos, chunktag) for ((word,pos),chunktag)\n",
    "                     in zip(sentence, chunktags)]\n",
    "        return nltk.chunk.conlltags2tree(conlltags)\n",
    "\n",
    "from nltk.corpus import conll2000\n",
    "test_sents = conll2000.chunked_sents('test.txt')\n",
    "train_sents = conll2000.chunked_sents('train.txt')\n",
    "\n",
    "unigram_chunker = UnigramChunker(train_sents)\n",
    "print(unigram_chunker.evaluate(test_sents))"
   ]
  },
  {
   "cell_type": "code",
   "execution_count": 8,
   "metadata": {},
   "outputs": [
    {
     "name": "stdout",
     "output_type": "stream",
     "text": [
      "ChunkParse score:\n",
      "    IOB Accuracy:  89.3%%\n",
      "    Precision:     81.2%%\n",
      "    Recall:        86.2%%\n",
      "    F-Measure:     83.6%%\n"
     ]
    }
   ],
   "source": [
    "# **************************************************\n",
    "# 8. Entrenamiento y evaluacion de BigramChunker\n",
    "# **************************************************\n",
    "class BigramChunker(nltk.ChunkParserI):\n",
    "    def __init__(self, train_sents):\n",
    "        train_data = [[(t,c) for w,t,c in nltk.chunk.tree2conlltags(sent)]\n",
    "                      for sent in train_sents]\n",
    "        self.tagger = nltk.BigramTagger(train_data)\n",
    "\n",
    "    def parse(self, sentence):\n",
    "        pos_tags = [pos for (word,pos) in sentence]\n",
    "        tagged_pos_tags = self.tagger.tag(pos_tags)\n",
    "        chunktags = [chunktag for (pos, chunktag) in tagged_pos_tags]\n",
    "        conlltags = [(word, pos, chunktag) for ((word,pos),chunktag)\n",
    "                     in zip(sentence, chunktags)]\n",
    "        return nltk.chunk.conlltags2tree(conlltags)\n",
    "    \n",
    "bigram_chunker = BigramChunker(train_sents)\n",
    "print(bigram_chunker.evaluate(test_sents))"
   ]
  },
  {
   "cell_type": "code",
   "execution_count": 9,
   "metadata": {},
   "outputs": [],
   "source": [
    "# **************************************************\n",
    "# 8. Entrenamiento y evaluacion de NaiveBayesClassifier\n",
    "# **************************************************\n",
    "class ConsecutiveNPChunkTagger(nltk.TaggerI):\n",
    "\n",
    "    def __init__(self, train_sents):\n",
    "        train_set = []\n",
    "        for tagged_sent in train_sents:\n",
    "            untagged_sent = nltk.tag.untag(tagged_sent)\n",
    "            history = []\n",
    "            for i, (word, tag) in enumerate(tagged_sent):\n",
    "                featureset = npchunk_features(untagged_sent, i, history)\n",
    "                train_set.append( (featureset, tag) )\n",
    "                history.append(tag)\n",
    "        self.classifier = nltk.NaiveBayesClassifier.train(\n",
    "            train_set)\n",
    "\n",
    "    def tag(self, sentence):\n",
    "        history = []\n",
    "        for i, word in enumerate(sentence):\n",
    "            featureset = npchunk_features(sentence, i, history)\n",
    "            tag = self.classifier.classify(featureset)\n",
    "            history.append(tag)\n",
    "        return zip(sentence, history)\n",
    "\n",
    "class ConsecutiveNPChunker(nltk.ChunkParserI):\n",
    "    def __init__(self, train_sents):\n",
    "        tagged_sents = [[((w,t),c) for (w,t,c) in\n",
    "                         nltk.chunk.tree2conlltags(sent)]\n",
    "                        for sent in train_sents]\n",
    "        self.tagger = ConsecutiveNPChunkTagger(tagged_sents)\n",
    "\n",
    "    def parse(self, sentence):\n",
    "        tagged_sents = self.tagger.tag(sentence)\n",
    "        conlltags = [(w,t,c) for ((w,t),c) in tagged_sents]\n",
    "        return nltk.chunk.conlltags2tree(conlltags)"
   ]
  },
  {
   "cell_type": "code",
   "execution_count": 10,
   "metadata": {},
   "outputs": [
    {
     "name": "stdout",
     "output_type": "stream",
     "text": [
      "ChunkParse score:\n",
      "    IOB Accuracy:  86.5%%\n",
      "    Precision:     74.3%%\n",
      "    Recall:        86.4%%\n",
      "    F-Measure:     79.9%%\n"
     ]
    }
   ],
   "source": [
    "# **************************************************\n",
    "# Empezamos definiendo un feature extractor simple que solo provee el tag POS del token actual.\n",
    "# Usando este extractor de features nuestro classifier-based chunker el rendimiento es similar al UnigramChunker.\n",
    "# **************************************************\n",
    "def npchunk_features(sentence, i, history):\n",
    "    word, pos = sentence[i]\n",
    "    return {\"pos\": pos}\n",
    "chunker = ConsecutiveNPChunker(train_sents)\n",
    "print(chunker.evaluate(test_sents))"
   ]
  },
  {
   "cell_type": "code",
   "execution_count": 11,
   "metadata": {},
   "outputs": [
    {
     "name": "stdout",
     "output_type": "stream",
     "text": [
      "ChunkParse score:\n",
      "    IOB Accuracy:  89.1%%\n",
      "    Precision:     79.7%%\n",
      "    Recall:        87.7%%\n",
      "    F-Measure:     83.5%%\n"
     ]
    }
   ],
   "source": [
    "# **************************************************\n",
    "# Podemos añadir un feature para el tag POS previo. Añadir esta feature permite al classifier modelar interacciones\n",
    "# entre tags adyacentes, y resulta en un chunker que es similar en rendimiento al BigramChunker.\n",
    "# **************************************************\n",
    "def npchunk_features(sentence, i, history):\n",
    "    word, pos = sentence[i]\n",
    "    if i == 0:\n",
    "        prevword, prevpos = \"<START>\", \"<START>\"\n",
    "    else:\n",
    "        prevword, prevpos = sentence[i-1]\n",
    "    return {\"pos\": pos, \"prevpos\": prevpos}\n",
    "chunker = ConsecutiveNPChunker(train_sents)\n",
    "print(chunker.evaluate(test_sents))"
   ]
  },
  {
   "cell_type": "code",
   "execution_count": 12,
   "metadata": {},
   "outputs": [
    {
     "name": "stdout",
     "output_type": "stream",
     "text": [
      "ChunkParse score:\n",
      "    IOB Accuracy:  90.8%%\n",
      "    Precision:     82.7%%\n",
      "    Recall:        89.4%%\n",
      "    F-Measure:     85.9%%\n"
     ]
    }
   ],
   "source": [
    "# **************************************************\n",
    "# Ahora intentaremos añadir una feature para la palabra actual, admitiendo que el contenido de la palabra debería ser útil para el chunking.\n",
    "# Encontramos que esta feature mejora el rendimiento del chunker en cerca de 1.5 puntos porcentuales (lo que corresponde a una reducción de aproximadamente 10% en la tasa de error)\n",
    "# **************************************************\n",
    "def npchunk_features(sentence, i, history):\n",
    "    word, pos = sentence[i]\n",
    "    if i == 0:\n",
    "        prevword, prevpos = \"<START>\", \"<START>\"\n",
    "    else:\n",
    "        prevword, prevpos = sentence[i-1]\n",
    "    return {\"pos\": pos, \"word\": word, \"prevpos\": prevpos}\n",
    "chunker = ConsecutiveNPChunker(train_sents)\n",
    "print(chunker.evaluate(test_sents))"
   ]
  },
  {
   "cell_type": "code",
   "execution_count": 13,
   "metadata": {},
   "outputs": [
    {
     "name": "stdout",
     "output_type": "stream",
     "text": [
      "ChunkParse score:\n",
      "    IOB Accuracy:  92.8%%\n",
      "    Precision:     86.8%%\n",
      "    Recall:        91.9%%\n",
      "    F-Measure:     89.3%%\n"
     ]
    }
   ],
   "source": [
    "# **************************************************\n",
    "# Finalmente, podemos intentar extender el extractor de funciones con una variedad de características adicionales, \n",
    "# como las características de anticipación [1], \n",
    "# las características emparejadas [2] \n",
    "# y las características contextuales complejas [3]. \n",
    "# Esta última característica, llamada tags-since-dt, crea una cadena que describe el conjunto de todas las etiquetas \n",
    "# POS que se han encontrado desde el determinante más reciente, \n",
    "# o desde el comienzo de la oración si no hay determinante antes del índice i\n",
    "# **************************************************\n",
    "def npchunk_features(sentence, i, history):\n",
    "    word, pos = sentence[i]\n",
    "    if i == 0:\n",
    "        prevword, prevpos = \"<START>\", \"<START>\"\n",
    "    else:\n",
    "        prevword, prevpos = sentence[i-1]\n",
    "    if i == len(sentence)-1:\n",
    "        nextword, nextpos = \"<END>\", \"<END>\"\n",
    "    else:\n",
    "        nextword, nextpos = sentence[i+1]\n",
    "    return {\"pos\": pos,\n",
    "            \"word\": word,\n",
    "            \"prevpos\": prevpos,\n",
    "            \"nextpos\": nextpos,\n",
    "            \"prevpos+pos\": \"%s+%s\" % (prevpos, pos),\n",
    "            \"pos+nextpos\": \"%s+%s\" % (pos, nextpos),\n",
    "            \"tags-since-dt\": tags_since_dt(sentence, i)}\n",
    "\n",
    "def tags_since_dt(sentence, i):\n",
    "    tags = set()\n",
    "    for word, pos in sentence[:i]:\n",
    "        if pos == 'DT':\n",
    "            tags = set()\n",
    "        else:\n",
    "            tags.add(pos)\n",
    "    return '+'.join(sorted(tags))\n",
    "\n",
    "chunker = ConsecutiveNPChunker(train_sents)\n",
    "print(chunker.evaluate(test_sents))"
   ]
  },
  {
   "cell_type": "code",
   "execution_count": null,
   "metadata": {},
   "outputs": [],
   "source": []
  }
 ],
 "metadata": {
  "kernelspec": {
   "display_name": "Python 3",
   "language": "python",
   "name": "python3"
  },
  "language_info": {
   "codemirror_mode": {
    "name": "ipython",
    "version": 3
   },
   "file_extension": ".py",
   "mimetype": "text/x-python",
   "name": "python",
   "nbconvert_exporter": "python",
   "pygments_lexer": "ipython3",
   "version": "3.6.6"
  }
 },
 "nbformat": 4,
 "nbformat_minor": 2
}
