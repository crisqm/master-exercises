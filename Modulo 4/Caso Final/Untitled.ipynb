{
 "cells": [
  {
   "cell_type": "code",
   "execution_count": 6,
   "metadata": {},
   "outputs": [
    {
     "name": "stdout",
     "output_type": "stream",
     "text": [
      "[('Mi', 'dp1css'), ('colega', 'nccs000'), ('me', 'pp1cs000'), ('ayuda', 'ncfs000'), ('a', 'sps00'), ('programar', None), ('cosas', 'ncfp000'), ('.', 'Fp')]\n",
      "[('Está', 'vmip3s0'), ('embarazada', None), ('.', 'Fp')]\n",
      "[[('Mi', 'dp1css'), ('colega', 'nccs000'), ('me', 'pp1cs000'), ('ayuda', 'ncfs000'), ('a', 'sps00'), ('programar', None), ('cosas', 'ncfp000'), ('.', 'Fp')], [('Está', 'vmip3s0'), ('embarazada', None), ('.', 'Fp')]]\n"
     ]
    }
   ],
   "source": [
    "from __future__ import print_function\n",
    "import spaghetti as sgt\n",
    "\n",
    "sent1 = 'Mi colega me ayuda a programar cosas .'.split()\n",
    "sent2 = 'Está embarazada .'.split()\n",
    "test_sents = [sent1, sent2]\n",
    "\n",
    "# Default Spaghetti tagger.\n",
    "#print (sgt.pos_tag(test_sents))\n",
    "\n",
    "# Tag multiple sentences.\n",
    "#print (sgt.pos_tag_sents(test_sents))\n",
    "\n",
    "spa_tagger = sgt.CESSTagger()\n",
    "# POS tagger trained on unigrams of CESS corpus.\n",
    "spa_unigram_tagger = spa_tagger.uni\n",
    "print (spa_unigram_tagger.tag(sent1))\n",
    "# POS tagger traned on bigrams of CESS corpus.\n",
    "spa_bigram_tagger = spa_tagger.bi\n",
    "print (spa_bigram_tagger.tag(sent2))\n",
    "print (spa_bigram_tagger.tag_sents(test_sents))"
   ]
  },
  {
   "cell_type": "code",
   "execution_count": null,
   "metadata": {},
   "outputs": [],
   "source": []
  }
 ],
 "metadata": {
  "kernelspec": {
   "display_name": "Python 3",
   "language": "python",
   "name": "python3"
  },
  "language_info": {
   "codemirror_mode": {
    "name": "ipython",
    "version": 3
   },
   "file_extension": ".py",
   "mimetype": "text/x-python",
   "name": "python",
   "nbconvert_exporter": "python",
   "pygments_lexer": "ipython3",
   "version": "3.6.4"
  }
 },
 "nbformat": 4,
 "nbformat_minor": 2
}
