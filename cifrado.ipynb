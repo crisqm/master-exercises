{
 "cells": [
  {
   "cell_type": "code",
   "execution_count": 2,
   "metadata": {},
   "outputs": [
    {
     "name": "stdout",
     "output_type": "stream",
     "text": [
      "Texo a cifrar: texto a cifrar\n",
      "Desplazamiento letra: 3\n",
      "Desplazamiento palabra: 2\n",
      "\n",
      "Texto cifrado: d fliudu whawr \n"
     ]
    }
   ],
   "source": [
    "def cifrar(texto,desp,desp2):\n",
    "\n",
    "    muestra = \"\"\n",
    "\n",
    "    texto = convertir(texto,desp2)\n",
    "\n",
    "    palabras = texto.split(' ')\n",
    "\n",
    "    copia = palabras[:]\n",
    "\n",
    "    indices = []\n",
    "\n",
    "    for i in range(0,len(palabras)):\n",
    "\n",
    "        indices.append((i + int(desp)) % len(palabras))\n",
    "\n",
    "        copia[indices[i]] = palabras[i]\n",
    "\n",
    "    for j in range(0,len(copia)):\n",
    "\n",
    "        muestra += \"\".join(copia[j])+\" \"\n",
    "\n",
    "    print (\"\\nTexto cifrado: \"+ muestra)\n",
    "\n",
    "   \n",
    "\n",
    "def convertir(text,desp2):\n",
    "\n",
    "    resul = \"\"\n",
    "\n",
    "    for car in text:\n",
    "\n",
    "        if car.isalpha():\n",
    "\n",
    "           if car.islower():\n",
    "\n",
    "               resul += chr((ord(car) - 97 + int(desp2)) % 26 + 97)\n",
    "\n",
    "           if car.isupper():\n",
    "\n",
    "               resul += chr((ord(car) - 65 + int(desp2)) % 26 + 65)     \n",
    "\n",
    "        else:\n",
    "\n",
    "            resul += car\n",
    "\n",
    "    return resul   \n",
    "\n",
    "   \n",
    "\n",
    "if __name__ == \"__main__\":\n",
    "\n",
    "   texto = input(\"Texo a cifrar: \")\n",
    "\n",
    "   desp2 = input(\"Desplazamiento letra: \")\n",
    "\n",
    "   desp = input(\"Desplazamiento palabra: \") \n",
    "\n",
    "   if desp.isdigit() and desp2.isdigit():\n",
    "\n",
    "       cifrar(texto,desp,desp2)\n",
    "\n",
    "   else:\n",
    "\n",
    "       print (\"El desplazamiento ha de ser un digito\")"
   ]
  },
  {
   "cell_type": "code",
   "execution_count": null,
   "metadata": {},
   "outputs": [],
   "source": []
  }
 ],
 "metadata": {
  "kernelspec": {
   "display_name": "Python 3",
   "language": "python",
   "name": "python3"
  },
  "language_info": {
   "codemirror_mode": {
    "name": "ipython",
    "version": 3
   },
   "file_extension": ".py",
   "mimetype": "text/x-python",
   "name": "python",
   "nbconvert_exporter": "python",
   "pygments_lexer": "ipython3",
   "version": "3.6.4"
  }
 },
 "nbformat": 4,
 "nbformat_minor": 2
}
