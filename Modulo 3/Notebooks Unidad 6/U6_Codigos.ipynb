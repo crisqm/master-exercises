{
 "cells": [
  {
   "cell_type": "markdown",
   "metadata": {},
   "source": [
    "# Unidad 5: Modelos conexionistas"
   ]
  },
  {
   "cell_type": "code",
   "execution_count": 1,
   "metadata": {},
   "outputs": [
    {
     "name": "stdout",
     "output_type": "stream",
     "text": [
      "Using matplotlib backend: MacOSX\n",
      "Populating the interactive namespace from numpy and matplotlib\n"
     ]
    }
   ],
   "source": [
    "%pylab\n",
    "%matplotlib inline\n",
    "\n",
    "%config InlineBackend.figure_format = 'retina'"
   ]
  },
  {
   "cell_type": "markdown",
   "metadata": {
    "collapsed": true
   },
   "source": [
    "# Modelos conexionistas\n",
    "## Introducción a Theano"
   ]
  },
  {
   "cell_type": "code",
   "execution_count": 2,
   "metadata": {},
   "outputs": [],
   "source": [
    "import theano\n",
    "import theano.tensor as T"
   ]
  },
  {
   "cell_type": "markdown",
   "metadata": {},
   "source": [
    "Operaciones básicas con variables en Theano"
   ]
  },
  {
   "cell_type": "code",
   "execution_count": 3,
   "metadata": {},
   "outputs": [
    {
     "data": {
      "text/plain": [
       "array(4.)"
      ]
     },
     "execution_count": 3,
     "metadata": {},
     "output_type": "execute_result"
    }
   ],
   "source": [
    "x = T.scalar('x')\n",
    "y = x ** 2\n",
    "\n",
    "y.eval({x : 2})"
   ]
  },
  {
   "cell_type": "markdown",
   "metadata": {},
   "source": [
    "También es posible realizar operaciones más complejas"
   ]
  },
  {
   "cell_type": "code",
   "execution_count": 4,
   "metadata": {},
   "outputs": [
    {
     "data": {
      "text/plain": [
       "array(32.)"
      ]
     },
     "execution_count": 4,
     "metadata": {},
     "output_type": "execute_result"
    }
   ],
   "source": [
    "x = T.scalar('x')\n",
    "y = T.scalar('y')\n",
    "z = 2 * x + 3 * y\n",
    "\n",
    "z.eval({x: 1, y : 10})"
   ]
  },
  {
   "cell_type": "markdown",
   "metadata": {},
   "source": [
    "Evaluación mediante funciones "
   ]
  },
  {
   "cell_type": "code",
   "execution_count": 5,
   "metadata": {},
   "outputs": [
    {
     "data": {
      "text/plain": [
       "array(8.)"
      ]
     },
     "execution_count": 5,
     "metadata": {},
     "output_type": "execute_result"
    }
   ],
   "source": [
    "f = theano.function(inputs=[x, y], outputs = z)\n",
    "f(1, 2)"
   ]
  },
  {
   "cell_type": "code",
   "execution_count": 6,
   "metadata": {},
   "outputs": [
    {
     "data": {
      "text/plain": [
       "array(3.)"
      ]
     },
     "execution_count": 6,
     "metadata": {},
     "output_type": "execute_result"
    }
   ],
   "source": [
    "x = T.scalar('x')\n",
    "y = T.scalar('y')\n",
    "\n",
    "def sum_vars(x, y):\n",
    "    return x + y\n",
    "\n",
    "z = sum_vars(x, y)\n",
    "\n",
    "f = theano.function(inputs = [x, y], outputs = z)\n",
    "f(1, 2)"
   ]
  },
  {
   "cell_type": "code",
   "execution_count": 7,
   "metadata": {},
   "outputs": [
    {
     "data": {
      "text/plain": [
       "array(1.)"
      ]
     },
     "execution_count": 7,
     "metadata": {},
     "output_type": "execute_result"
    }
   ],
   "source": [
    "x = T.scalar('x')\n",
    "y = cos(x)\n",
    "\n",
    "f = theano.function(inputs = [x], outputs = y)\n",
    "\n",
    "f(0)"
   ]
  },
  {
   "cell_type": "code",
   "execution_count": 8,
   "metadata": {},
   "outputs": [
    {
     "name": "stdout",
     "output_type": "stream",
     "text": [
      "abs(3) =  3.0\n",
      "abs(-3) =  3.0\n"
     ]
    }
   ],
   "source": [
    "x = T.scalar('x')\n",
    "\n",
    "y = T.switch(T.gt(x, 0), x, -x)\n",
    "\n",
    "f = theano.function(inputs = [x], outputs = y)\n",
    "\n",
    "print(\"abs(3) = \", f(3))\n",
    "print(\"abs(-3) = \", f(-3))"
   ]
  },
  {
   "cell_type": "code",
   "execution_count": 9,
   "metadata": {},
   "outputs": [
    {
     "name": "stdout",
     "output_type": "stream",
     "text": [
      "El tiempo utilizando switch es 0.692914\n",
      "El tiempo utilizando switch es 0.293554\n"
     ]
    }
   ],
   "source": [
    "import time\n",
    "from theano.ifelse import ifelse\n",
    "\n",
    "a, b = T.scalars('a', 'b')\n",
    "x, y = T.matrices('x', 'y')\n",
    "\n",
    "z_switch = T.switch(T.lt(a, b), T.mean(x), T.mean(y))\n",
    "z_ifelse = ifelse(T.lt(a, b), T.mean(x), T.mean(y))\n",
    "\n",
    "f_switch = theano.function([a, b, x, y], z_switch)\n",
    "f_ifelse = theano.function([a, b, x, y], z_ifelse)\n",
    "\n",
    "val1 = 0.\n",
    "val2 = 1.\n",
    "big_mat = numpy.ones((15000, 15000))\n",
    "\n",
    "tic = time.clock()\n",
    "f_switch(val1, val2, big_mat, big_mat)\n",
    "print('El tiempo utilizando switch es %f' % (time.clock() - tic))\n",
    "\n",
    "tic = time.clock()\n",
    "f_ifelse(val1, val2, big_mat, big_mat)\n",
    "print('El tiempo utilizando switch es %f' % (time.clock() - tic))"
   ]
  },
  {
   "cell_type": "code",
   "execution_count": 10,
   "metadata": {},
   "outputs": [
    {
     "name": "stdout",
     "output_type": "stream",
     "text": [
      "30.0\n",
      "20.0\n"
     ]
    }
   ],
   "source": [
    "x = T.scalar('x')\n",
    "y = T.scalar('y')\n",
    "\n",
    "z  = x * y\n",
    "\n",
    "f = theano.function(inputs = [x, theano.In(y, value = 3)], outputs= z)\n",
    "\n",
    "print(f(10))\n",
    "print(f(10, 2))"
   ]
  },
  {
   "cell_type": "code",
   "execution_count": 11,
   "metadata": {},
   "outputs": [
    {
     "name": "stdout",
     "output_type": "stream",
     "text": [
      "1.0\n",
      "0.0\n"
     ]
    }
   ],
   "source": [
    "x = theano.shared(np.array(1, dtype = theano.config.floatX))\n",
    "A = T.scalar()\n",
    "f = theano.function(inputs = [A], outputs = x, updates = {x: x - A})\n",
    "\n",
    "print(f(np.array(1)))\n",
    "print(x.get_value())"
   ]
  },
  {
   "cell_type": "code",
   "execution_count": 12,
   "metadata": {},
   "outputs": [
    {
     "name": "stdout",
     "output_type": "stream",
     "text": [
      "[[1. 2.]\n",
      " [3. 4.]]\n",
      "[[0. 1.]\n",
      " [2. 3.]]\n"
     ]
    }
   ],
   "source": [
    "x = theano.shared(np.array([[1, 2], [3, 4]], dtype = theano.config.floatX))\n",
    "A = T.matrix()\n",
    "f = theano.function(inputs = [A], outputs = x, updates = {x: x - A})\n",
    "\n",
    "print(f(np.array([[1, 1], [1, 1]])))\n",
    "print(x.get_value())"
   ]
  },
  {
   "cell_type": "code",
   "execution_count": 13,
   "metadata": {},
   "outputs": [
    {
     "data": {
      "text/plain": [
       "array([ 7., 12.])"
      ]
     },
     "execution_count": 13,
     "metadata": {},
     "output_type": "execute_result"
    }
   ],
   "source": [
    "W = T.matrix('W')\n",
    "v = T.vector('v')\n",
    "b = T.vector('biases')\n",
    "\n",
    "x = T.dot(v, W) + b\n",
    "\n",
    "f = theano.function(inputs = [v, W, b], outputs = x)\n",
    "\n",
    "f([1,1], [[2,4],[3,5]], [2, 3])"
   ]
  },
  {
   "cell_type": "code",
   "execution_count": 14,
   "metadata": {},
   "outputs": [
    {
     "data": {
      "text/plain": [
       "array(20.)"
      ]
     },
     "execution_count": 14,
     "metadata": {},
     "output_type": "execute_result"
    }
   ],
   "source": [
    "x = T.scalar()\n",
    "y = x**2\n",
    "\n",
    "# y_grad = dy/dx\n",
    "y_grad = T.grad(y, x)\n",
    "\n",
    "# dy/dx = 2 * x\n",
    "y_grad.eval({x: 10})"
   ]
  },
  {
   "cell_type": "markdown",
   "metadata": {},
   "source": [
    "Uso de Theano para la estimación de una regresión.\n",
    "\n",
    "En Theano se puede utilizar el gradiente para implementar una función de coste y realizar una estimación lineal."
   ]
  },
  {
   "cell_type": "code",
   "execution_count": 15,
   "metadata": {},
   "outputs": [
    {
     "name": "stdout",
     "output_type": "stream",
     "text": [
      "En el paso 0 el valor de w es -0.8565664398722816 y c es 9.776791416818293 con un coste 10.055249998828824\n",
      "En el paso 1 el valor de w es 0.33670918129732047 y c es 10.515120898692238 con un coste 1.3430788082883007\n",
      "En el paso 2 el valor de w es 1.1462745823446208 y c es 10.354309158862362 con un coste 0.23341238045348742\n",
      "En el paso 3 el valor de w es 1.5815942013425457 y c es 10.205216596745913 con un coste 0.03421557375299153\n",
      "En el paso 4 el valor de w es 1.8048935933577694 y c es 10.121262009483482 con un coste 0.0015859257769192715\n",
      "En el paso 5 el valor de w es 1.918148943289178 y c es 10.077745217380954 con un coste 0.0010771948992728678\n",
      "En el paso 6 el valor de w es 1.9754298818742597 y c es 10.055617353645387 con un coste 0.004821696082370686\n",
      "En el paso 7 el valor de w es 2.004380357063588 y c es 10.04441862775099 con un coste 0.00773165663417488\n",
      "En el paso 8 el valor de w es 2.0190096865337934 y c es 10.038757748219613 con un coste 0.009461837047187185\n",
      "En el paso 9 el valor de w es 2.0264018885158666 y c es 10.035897062396996 con un coste 0.01040243006634169\n",
      "En el paso 10 el valor de w es 2.0301371273046342 y c es 10.03445154283111 con un coste 0.010894647506568801\n",
      "En el paso 11 el valor de w es 2.032024517502957 y c es 10.033721127923362 con un coste 0.011147687690945745\n",
      "En el paso 12 el valor de w es 2.0329782019773908 y c es 10.033352054110402 con un coste 0.01127665170119346\n",
      "En el paso 13 el valor de w es 2.033460091687227 y c es 10.033165563779763 con un coste 0.01134209831617452\n",
      "En el paso 14 el valor de w es 2.0337035869818254 y c es 10.033071331591472 con un coste 0.011375240021215663\n"
     ]
    }
   ],
   "source": [
    "trX = np.linspace(-1, 1, 101)\n",
    "trY = 2 * trX + np.random.randn(*trX.shape) * 0.50 + 10\n",
    "\n",
    "X = T.scalar()\n",
    "Y = T.scalar()\n",
    "\n",
    "def model(X, w, c):\n",
    "    return X * w + c\n",
    "\n",
    "w = theano.shared(np.asarray(0., dtype = theano.config.floatX))\n",
    "c = theano.shared(np.asarray(0., dtype = theano.config.floatX))\n",
    "y = model(X, w, c)\n",
    "\n",
    "cost     = T.mean(T.sqr(y - Y))\n",
    "gradient_w = T.grad(cost = cost, wrt = w)\n",
    "gradient_c = T.grad(cost = cost, wrt = c)\n",
    "updates  = [[w, w - gradient_w * 0.01], [c, c - gradient_c * 0.01]]\n",
    "\n",
    "train = theano.function(inputs = [X, Y], outputs = cost, updates = updates)\n",
    "\n",
    "for i in range(15):\n",
    "    for x, y in zip(trX, trY):\n",
    "        cost_i = train(x, y)\n",
    "    print('En el paso', i, 'el valor de w es', w.get_value(),\n",
    "           'y c es', c.get_value(), 'con un coste', cost_i)"
   ]
  },
  {
   "cell_type": "markdown",
   "metadata": {},
   "source": [
    "## Implementación de un perceptrón con Theano"
   ]
  },
  {
   "cell_type": "markdown",
   "metadata": {
    "collapsed": true
   },
   "source": [
    "En primer lugar vamos a definir una red neuronal que toma las entradas y utiliza los pesos para determinar la salida. Inicialmente definidos una neurona que calcula la salida `a`. La representación se puede observar en la siguiente figura\n",
    "\n",
    "![Modelo red neuronal](U5_Modelo.001.png)\n",
    "\n",
    "donde el vector $x$ es $[x_1, x_2]$ y $w$ es$[w_1, w_2]$."
   ]
  },
  {
   "cell_type": "code",
   "execution_count": 16,
   "metadata": {},
   "outputs": [
    {
     "name": "stdout",
     "output_type": "stream",
     "text": [
      "El resultado para [0, 0] es 0\n",
      "El resultado para [0, 1] es 0\n",
      "El resultado para [1, 0] es 0\n",
      "El resultado para [1, 1] es 1\n"
     ]
    }
   ],
   "source": [
    "# Definición de las variables simbólicas\n",
    "x = T.vector('x')\n",
    "\n",
    "# Definición de las variables compartidas\n",
    "w = theano.shared(np.array([1, 1], dtype = theano.config.floatX))\n",
    "b = theano.shared(-1.5)\n",
    "\n",
    "# Definición de la neurona\n",
    "z = T.dot(x, w) + b\n",
    "a = T.switch(T.lt(z, 0), 0, 1)\n",
    "\n",
    "# Conjunto de datos\n",
    "inputs = [[0, 0], [0, 1], [1, 0], [1, 1]]\n",
    "\n",
    "# Creación de la función\n",
    "neuron = theano.function([x], a)\n",
    "\n",
    "# Iteramos sobre todas las entradas\n",
    "for i in range(len(inputs)):\n",
    "    t = inputs[i]\n",
    "    out = neuron(t)\n",
    "    print('El resultado para [%d, %d] es %d' % (t[0], t[1], out))"
   ]
  },
  {
   "cell_type": "markdown",
   "metadata": {},
   "source": [
    "Se puede observar que los resultados son los mismos en ambos casos.\n",
    "\n",
    "# Propagación hacia atrás\n",
    "Ahora es necesario modificar el código anterior para introducir la función de error y entrenar la red neuronal."
   ]
  },
  {
   "cell_type": "code",
   "execution_count": 17,
   "metadata": {},
   "outputs": [],
   "source": [
    "# Definición de las variables simbólicas\n",
    "x = T.matrix('x')\n",
    "w = theano.shared(np.array([1, 1], dtype = theano.config.floatX))\n",
    "b = theano.shared(1.0)\n",
    "learning_rate = 0.01\n",
    "\n",
    "# Definición de la neurona\n",
    "z = T.dot(x, w) + b\n",
    "a = 1 / (1 + T.exp(-z))\n",
    "\n",
    "# Definición de la función de coste\n",
    "a_hat = T.vector('a_hat')\n",
    "cost = -(a_hat * T.log(a) + (1 - a_hat) * T.log(1 - a)).sum()\n",
    "\n",
    "# Gradiente de la función de coste\n",
    "dw, db = T.grad(cost, [w, b])\n",
    "\n",
    "train = theano.function(\n",
    "    inputs = [x, a_hat],\n",
    "    outputs = [a, cost],\n",
    "    updates = [[w, w - learning_rate * dw], [b, b - learning_rate * db]])"
   ]
  },
  {
   "cell_type": "markdown",
   "metadata": {},
   "source": [
    "En este caso se han introducido unos cambios respecto a la implementación anterior. En primer lugar, se ha definido `x` como una matriz en lugar de un vector. Esto es para tener un enfoque vectorizado en donde se determinan todos los resultados de forma conjunta y se puede obtener los costes necesarios para implementar los gradientes. Por otro lado, se ha cambiado la forma de la neurona, `a`, de una función escalón a una función logística.\n",
    "\n",
    "También se ha de tener en cuenta que se va a utilizar el gradiente descendiente para obtener los pesos por lotes, es decir, usaremos todas las observaciones de entrenamiento para actualizar los pesos."
   ]
  },
  {
   "cell_type": "code",
   "execution_count": 18,
   "metadata": {},
   "outputs": [
    {
     "name": "stdout",
     "output_type": "stream",
     "text": [
      "Los resultados de la red son:\n",
      "El resultado para [0, 0] es 0.00\n",
      "El resultado para [0, 1] es 0.05\n",
      "El resultado para [1, 0] es 0.05\n",
      "El resultado para [1, 1] es 0.93\n",
      "El vector w es [5.58, 5.58]\n",
      "El valor del bias es -8.55\n"
     ]
    },
    {
     "data": {
      "text/plain": [
       "[<matplotlib.lines.Line2D at 0x1c8c299588>]"
      ]
     },
     "execution_count": 18,
     "metadata": {},
     "output_type": "execute_result"
    },
    {
     "data": {
      "image/png": "[encoded data removed]",
      "text/plain": [
       "<matplotlib.figure.Figure at 0x1c8be81128>"
      ]
     },
     "metadata": {
      "image/png": {
       "height": 250,
       "width": 364
      }
     },
     "output_type": "display_data"
    }
   ],
   "source": [
    "# Conjunto de datos de entrenamiento\n",
    "inputs = [[0, 0], [0, 1], [1, 0], [1, 1]]\n",
    "outputs = [0,0,0,1]\n",
    "\n",
    "# Iteramos sobre el conjunto de entrenamiento \n",
    "cost = []\n",
    "for iteration in range(10000):\n",
    "    pred, cost_iter = train(inputs, outputs)\n",
    "    cost.append(cost_iter)\n",
    "    \n",
    "# Se imprimen los resultados por pantalla\n",
    "print('Los resultados de la red son:')\n",
    "for i in range(len(inputs)):\n",
    "    print('El resultado para [%d, %d] es %.2f' % (inputs[i][0], inputs[i][1], pred[i]))\n",
    "    \n",
    "# Resultados\n",
    "print\n",
    "print('El vector w es [%.2f, %.2f]' % (w.get_value()[0], w.get_value()[0]))\n",
    "print('El valor del bias es %.2f' % b.get_value())\n",
    "\n",
    "# Función de esfuerzo en función del número de iteraciones\n",
    "plt.plot(cost)"
   ]
  },
  {
   "cell_type": "markdown",
   "metadata": {},
   "source": [
    "En este ejemplo se puede ver como tras el entrenamiento la red neuronal puede reproducir los resultados deseados.\n",
    "\n",
    "## Red neuronal con dos capas\n",
    "Ahora vamos a implementar una red neuronal con dos capas. En la primera capa vamos a utilizar dos neuronas y en la segunda tres. Con esta red neuronal se va a entrenar para poder reproducir una función `XNOR` los siguientes resultados:\n",
    "\n",
    "X1 | X2 | out\n",
    "-- | -- | --\n",
    "0 | 0 | 1\n",
    "0 | 1 | 0\n",
    "1 | 0 | 0\n",
    "1 | 1 | 1\n",
    "\n",
    "Una representación de esta red neuronal se puede observar en la siguiente figura\n",
    "\n",
    "![Modelo red neuronal](U5_Modelo.002.png)\n",
    "\n",
    "donde el vector $x$ es $[x_1, x_2]$, $w_1$ es$[w_{11}, w_{12}]$, $w_2$ es$[w_{21}, w_{22}]$ y $w_3$ es$[w_{31}, w_{32}]$.\n",
    "\n",
    "En primer lugar se definen las variables"
   ]
  },
  {
   "cell_type": "code",
   "execution_count": 19,
   "metadata": {},
   "outputs": [],
   "source": [
    "x = T.matrix('x')\n",
    "w1 = theano.shared(np.array([.1, .2], dtype = theano.config.floatX))\n",
    "w2 = theano.shared(np.array([.3, .4], dtype = theano.config.floatX))\n",
    "w3 = theano.shared(np.array([.5, .6], dtype = theano.config.floatX))\n",
    "b1 = theano.shared(1.)\n",
    "b2 = theano.shared(1.)\n",
    "learning_rate = 0.01"
   ]
  },
  {
   "cell_type": "markdown",
   "metadata": {},
   "source": [
    "En segundo lugar se han de definir las neuronas y la relación entre las mismas."
   ]
  },
  {
   "cell_type": "code",
   "execution_count": 20,
   "metadata": {},
   "outputs": [],
   "source": [
    "a1 = 1 / (1 + T.exp(-T.dot(x, w1) - b1))\n",
    "a2 = 1 / (1 + T.exp(-T.dot(x, w2) - b1))\n",
    "x2 = T.stack([a1, a2], axis = 1)\n",
    "a3 = 1 / (1 + T.exp(-T.dot(x2, w3) - b2))"
   ]
  },
  {
   "cell_type": "markdown",
   "metadata": {},
   "source": [
    "Posteriormente se ha de definir la función para el entrenamiento de la red. Esto se hace utilizando la función de coste y el gradiente."
   ]
  },
  {
   "cell_type": "code",
   "execution_count": 21,
   "metadata": {},
   "outputs": [],
   "source": [
    "a_hat = T.vector('a_hat')\n",
    "cost = -(a_hat * T.log(a3) + (1 - a_hat) * T.log(1 - a3)).sum()\n",
    "dw1, dw2, dw3, db1, db2 = T.grad(cost, [w1, w2, w3, b1, b2])\n",
    "\n",
    "train = theano.function(\n",
    "    inputs = [x,a_hat],\n",
    "    outputs = [a3,cost],\n",
    "    updates = [\n",
    "        [w1, w1 - learning_rate * dw1],\n",
    "        [w2, w2 - learning_rate * dw2],\n",
    "        [w3, w3 - learning_rate * dw3],\n",
    "        [b1, b1 - learning_rate * db1],\n",
    "        [b2, b2 - learning_rate * db2]\n",
    "    ]\n",
    ")"
   ]
  },
  {
   "cell_type": "markdown",
   "metadata": {},
   "source": [
    "Finalmente, se puede realizar al entrenamiento de la red neuronal."
   ]
  },
  {
   "cell_type": "code",
   "execution_count": 22,
   "metadata": {},
   "outputs": [
    {
     "name": "stdout",
     "output_type": "stream",
     "text": [
      "Los resultados de la red son:\n",
      "El resultado para [0, 0] es 0.99\n",
      "El resultado para [0, 1] es 0.01\n",
      "El resultado para [1, 0] es 0.01\n",
      "El resultado para [1, 1] es 0.99\n",
      "El vector w1 es [4.17, 4.17]\n",
      "El vector w2 es [9.55, 9.55]\n",
      "El vector w3 es [12.83, 12.83]\n",
      "El valor del bias 1 es -6.25\n",
      "El valor del bias 2 es 4.64\n"
     ]
    },
    {
     "data": {
      "text/plain": [
       "[<matplotlib.lines.Line2D at 0x115b6e940>]"
      ]
     },
     "execution_count": 22,
     "metadata": {},
     "output_type": "execute_result"
    },
    {
     "data": {
      "image/png": "[encoded data removed]",
      "text/plain": [
       "<matplotlib.figure.Figure at 0x115c040f0>"
      ]
     },
     "metadata": {
      "image/png": {
       "height": 250,
       "width": 364
      }
     },
     "output_type": "display_data"
    }
   ],
   "source": [
    "inputs = [[0, 0], [0, 1], [1, 0], [1, 1]]\n",
    "outputs = [1, 0, 0, 1]\n",
    "\n",
    "# Iteramos sobre el conjunto de entrenamiento \n",
    "cost = []\n",
    "for iteration in range(50000):\n",
    "    pred, cost_iter = train(inputs, outputs)\n",
    "    cost.append(cost_iter)\n",
    "    \n",
    "# Se imprimen los resultados por pantalla\n",
    "print('Los resultados de la red son:')\n",
    "for i in range(len(inputs)):\n",
    "    print('El resultado para [%d, %d] es %.2f' % (inputs[i][0], inputs[i][1], pred[i]))\n",
    "\n",
    "# Resultados\n",
    "print\n",
    "print('El vector w1 es [%.2f, %.2f]' % (w1.get_value()[0], w1.get_value()[0]))\n",
    "print('El vector w2 es [%.2f, %.2f]' % (w2.get_value()[0], w2.get_value()[0]))\n",
    "print('El vector w3 es [%.2f, %.2f]' % (w3.get_value()[0], w3.get_value()[0]))\n",
    "print('El valor del bias 1 es %.2f' % b1.get_value())\n",
    "print('El valor del bias 2 es %.2f' % b2.get_value())\n",
    "\n",
    "# Función de esfuerzo en función del número de iteraciones\n",
    "plt.plot(cost)"
   ]
  },
  {
   "cell_type": "markdown",
   "metadata": {},
   "source": [
    "En la figura se puede observar que es hay una reducción de la función de esfuerzo después de 20000 iteraciones. Por lo que en este caso ha sido necesario aumentar el tiempo de entrenamiento respecto a ejemplo anterior.\n",
    "\n",
    "En este ejemplo, al igual que el anterior, se puede ver como tras el entrenamiento la red neuronal puede reproducir los resultados deseados."
   ]
  },
  {
   "cell_type": "code",
   "execution_count": 23,
   "metadata": {},
   "outputs": [],
   "source": [
    "def floatX(X):\n",
    "    return np.asarray(X, dtype = theano.config.floatX)\n",
    "\n",
    "def init_weights(shape):\n",
    "    return theano.shared(floatX(np.random.randn(*shape) * 0.01))"
   ]
  },
  {
   "cell_type": "code",
   "execution_count": 24,
   "metadata": {},
   "outputs": [],
   "source": [
    "# Semilla\n",
    "rng = np.random.RandomState(1)\n",
    "\n",
    "# Bias\n",
    "b1 = theano.shared(1.)\n",
    "b2 = theano.shared(1.)\n",
    "\n",
    "# Pesos iniciales aleatorios\n",
    "w1 = init_weights((2, 3))\n",
    "w2 = init_weights((3, 1))\n",
    "\n",
    "# Definición de la red\n",
    "a1 = T.nnet.sigmoid(T.dot(x, w1) + b1)\n",
    "a2 = T.nnet.sigmoid(T.dot(a1, w2) + b2)\n",
    "a3 = T.flatten(a2)\n",
    "\n",
    "# Función de esfuerzo\n",
    "cost = T.nnet.binary_crossentropy(a3, a_hat).mean()\n",
    "\n",
    "# Función de entrenamiento\n",
    "train = theano.function(inputs = [x, a_hat],\n",
    "                        outputs = [a3, cost],\n",
    "                        updates = [\n",
    "                            (w1, w1 - learning_rate * T.grad(cost, w1)),\n",
    "                            (w2, w2 - learning_rate * T.grad(cost, w2)),\n",
    "                            (b1, b1 - learning_rate * T.grad(cost, b1)),\n",
    "                            (b2, b2 - learning_rate * T.grad(cost, b2))\n",
    "                        ])"
   ]
  },
  {
   "cell_type": "code",
   "execution_count": 25,
   "metadata": {},
   "outputs": [
    {
     "name": "stdout",
     "output_type": "stream",
     "text": [
      "Los resultados de la red son:\n",
      "El resultado para [0, 0] es 0.99\n",
      "El resultado para [0, 1] es 0.01\n",
      "El resultado para [1, 0] es 0.01\n",
      "El resultado para [1, 1] es 0.99\n"
     ]
    },
    {
     "data": {
      "text/plain": [
       "[<matplotlib.lines.Line2D at 0x115bace80>]"
      ]
     },
     "execution_count": 25,
     "metadata": {},
     "output_type": "execute_result"
    },
    {
     "data": {
      "image/png": "[encoded data removed]",
      "text/plain": [
       "<matplotlib.figure.Figure at 0x1c8c26ec88>"
      ]
     },
     "metadata": {
      "image/png": {
       "height": 250,
       "width": 376
      }
     },
     "output_type": "display_data"
    }
   ],
   "source": [
    "learning_rate = 0.1\n",
    "\n",
    "inputs = [[0, 0], [0, 1], [1, 0], [1, 1]]\n",
    "outputs = [1, 0, 0, 1]\n",
    "\n",
    "# Iteramos sobre el conjunto de entrenamiento \n",
    "cost = []\n",
    "for iteration in range(300000):\n",
    "    pred, cost_iter = train(inputs, outputs)\n",
    "    cost.append(cost_iter)\n",
    "    \n",
    "# Se imprimen los resultados por pantalla\n",
    "print('Los resultados de la red son:')\n",
    "for i in range(len(inputs)):\n",
    "    print('El resultado para [%d, %d] es %.2f' % (inputs[i][0], inputs[i][1], pred[i]))\n",
    "\n",
    "# Función de esfuerzo en función del número de iteraciones\n",
    "plt.plot(cost)"
   ]
  },
  {
   "cell_type": "markdown",
   "metadata": {},
   "source": [
    "### Redes neuronales"
   ]
  },
  {
   "cell_type": "code",
   "execution_count": 26,
   "metadata": {},
   "outputs": [],
   "source": [
    "import os\n",
    "\n",
    "datasets_dir = ''\n",
    "\n",
    "def one_hot(x,n):\n",
    "    if type(x) == list:\n",
    "        x = np.array(x)\n",
    "    x = x.flatten()\n",
    "    o_h = np.zeros((len(x),n))\n",
    "    o_h[np.arange(len(x)),x] = 1\n",
    "    return o_h\n",
    "\n",
    "def mnist(ntrain=60000,ntest=10000,onehot=True):\n",
    "    data_dir = os.path.join(datasets_dir,'mnist/')\n",
    "    fd = open(os.path.join(data_dir,'train-images-idx3-ubyte'))\n",
    "    loaded = np.fromfile(file=fd,dtype=np.uint8)\n",
    "    trX = loaded[16:].reshape((60000,28*28)).astype(float)\n",
    "\n",
    "    fd = open(os.path.join(data_dir,'train-labels-idx1-ubyte'))\n",
    "    loaded = np.fromfile(file=fd,dtype=np.uint8)\n",
    "    trY = loaded[8:].reshape((60000))\n",
    "\n",
    "    fd = open(os.path.join(data_dir,'t10k-images-idx3-ubyte'))\n",
    "    loaded = np.fromfile(file=fd,dtype=np.uint8)\n",
    "    teX = loaded[16:].reshape((10000,28*28)).astype(float)\n",
    "\n",
    "    fd = open(os.path.join(data_dir,'t10k-labels-idx1-ubyte'))\n",
    "    loaded = np.fromfile(file=fd,dtype=np.uint8)\n",
    "    teY = loaded[8:].reshape((10000))\n",
    "\n",
    "    trX = trX/255.\n",
    "    teX = teX/255.\n",
    "\n",
    "    trX = trX[:ntrain]\n",
    "    trY = trY[:ntrain]\n",
    "\n",
    "    teX = teX[:ntest]\n",
    "    teY = teY[:ntest]\n",
    "\n",
    "    if onehot:\n",
    "        trY = one_hot(trY, 10)\n",
    "        teY = one_hot(teY, 10)\n",
    "    else:\n",
    "        trY = np.asarray(trY)\n",
    "        teY = np.asarray(teY)\n",
    "\n",
    "    return trX,teX,trY,teY\n",
    "\n",
    "trX, teX, trY, teY = mnist()"
   ]
  },
  {
   "cell_type": "code",
   "execution_count": 27,
   "metadata": {},
   "outputs": [
    {
     "name": "stdout",
     "output_type": "stream",
     "text": [
      "[1. 0. 0. 0. 0. 0. 0. 0. 0. 0.]\n"
     ]
    },
    {
     "data": {
      "image/png": "[encoded data removed]",
      "text/plain": [
       "<matplotlib.figure.Figure at 0x1c8c111ac8>"
      ]
     },
     "metadata": {
      "image/png": {
       "height": 250,
       "width": 253
      }
     },
     "output_type": "display_data"
    }
   ],
   "source": [
    "print(trY[1,:])\n",
    "imshow(trX[1,:].reshape(28, 28), cmap = mpl.cm.gray)\n",
    "show()"
   ]
  },
  {
   "cell_type": "code",
   "execution_count": 28,
   "metadata": {},
   "outputs": [],
   "source": [
    "num_iter = 25"
   ]
  },
  {
   "cell_type": "code",
   "execution_count": 29,
   "metadata": {},
   "outputs": [
    {
     "name": "stdout",
     "output_type": "stream",
     "text": [
      "0 0.7188 0.002708556596708421\n",
      "1 0.6994 0.0012358971245930133\n",
      "2 0.6889 0.0007817157465780501\n",
      "3 0.6837 0.0005649837539767377\n",
      "4 0.6783 0.0004392463858975025\n",
      "5 0.6742 0.0003576001559729881\n",
      "6 0.6703 0.00030053012754027795\n",
      "7 0.6675 0.0002585069162024383\n",
      "8 0.6653 0.00022633987705063187\n",
      "9 0.6635 0.00020096695959936838\n",
      "10 0.6621 0.0001804683197748729\n",
      "11 0.6607 0.00016358087745368716\n",
      "12 0.6598 0.00014944055265054545\n",
      "13 0.6587 0.00013743680364435452\n",
      "14 0.6568 0.0001271263332358832\n",
      "15 0.6558 0.00011817971074951361\n",
      "16 0.6546 0.00011034716106144433\n",
      "17 0.6534 0.0001034359578881165\n",
      "18 0.6529 9.729508281897585e-05\n",
      "19 0.6515 9.180456905512955e-05\n",
      "20 0.6506 8.68679447021198e-05\n",
      "21 0.6492 8.240677439478945e-05\n",
      "22 0.6482 7.835665082796205e-05\n",
      "23 0.6476 7.466420679416971e-05\n",
      "24 0.6466 7.12848575395553e-05\n"
     ]
    }
   ],
   "source": [
    "trX, teX, trY, teY = mnist()\n",
    "\n",
    "X = T.fmatrix()\n",
    "Y = T.fmatrix()\n",
    "\n",
    "w = init_weights((784, 10))\n",
    "\n",
    "py_x = T.nnet.sigmoid(T.dot(X, w))\n",
    "\n",
    "y_pred = T.argmax(py_x, axis=1)\n",
    "\n",
    "cost = T.mean(T.nnet.categorical_crossentropy(py_x, Y))\n",
    "gradient = T.grad(cost, w)\n",
    "update = [[w, w - gradient * 0.1]]\n",
    "\n",
    "train = theano.function(inputs = [X, Y],\n",
    "                        outputs = cost,\n",
    "                        updates = update,\n",
    "                        allow_input_downcast=True)\n",
    "predict = theano.function(inputs = [X],\n",
    "                          outputs = y_pred,\n",
    "                          allow_input_downcast = True)\n",
    "\n",
    "for i in range(num_iter):\n",
    "    for start, end in zip(range(0, len(trX), 128), range(128, len(trX), 128)):\n",
    "        cost = train(trX[start:end], trY[start:end])\n",
    "    print(i, np.mean(np.argmax(teY, axis=1) == predict(teX)), cost)"
   ]
  },
  {
   "cell_type": "code",
   "execution_count": 30,
   "metadata": {},
   "outputs": [
    {
     "name": "stdout",
     "output_type": "stream",
     "text": [
      "0 0.8965 0.14193895447710597\n",
      "1 0.9075 0.11220315382106459\n",
      "2 0.9113 0.10013726335827661\n",
      "3 0.9136 0.09319014481032867\n",
      "4 0.9155 0.08855211110795991\n",
      "5 0.9166 0.08519006857006639\n",
      "6 0.9179 0.08262147293856117\n",
      "7 0.9183 0.08058590197237205\n",
      "8 0.9192 0.07892843935508581\n",
      "9 0.9192 0.07755025838550315\n",
      "10 0.9199 0.0763849187013012\n",
      "11 0.9201 0.07538589395438548\n",
      "12 0.92 0.0745195211407721\n",
      "13 0.9205 0.07376078157307732\n",
      "14 0.9202 0.0730906575613057\n",
      "15 0.9207 0.07249441254413588\n",
      "16 0.9215 0.07196043611483804\n",
      "17 0.9218 0.07147944723742387\n",
      "18 0.9217 0.07104393161242797\n",
      "19 0.922 0.07064773617411316\n",
      "20 0.9222 0.0702857714763697\n",
      "21 0.9222 0.06995378967270088\n",
      "22 0.9219 0.0696482164325075\n",
      "23 0.9219 0.06936602197802176\n",
      "24 0.9219 0.06910462092410494\n"
     ]
    }
   ],
   "source": [
    "w = init_weights((784, 10))\n",
    "\n",
    "py_x = T.nnet.softmax(T.dot(X, w))\n",
    "\n",
    "y_pred = T.argmax(py_x, axis=1)\n",
    "\n",
    "cost = T.mean(T.nnet.categorical_crossentropy(py_x, Y))\n",
    "gradient = T.grad(cost, w)\n",
    "update = [[w, w - gradient * 0.1]]\n",
    "\n",
    "train = theano.function(inputs = [X, Y],\n",
    "                        outputs = cost,\n",
    "                        updates = update,\n",
    "                        allow_input_downcast = True)\n",
    "predict = theano.function(inputs = [X],\n",
    "                          outputs = y_pred,\n",
    "                          allow_input_downcast = True)\n",
    "\n",
    "for i in range(num_iter):\n",
    "    for start, end in zip(range(0, len(trX), 128), range(128, len(trX), 128)):\n",
    "        cost = train(trX[start:end], trY[start:end])\n",
    "    print(i, np.mean(np.argmax(teY, axis=1) == predict(teX)), cost)"
   ]
  },
  {
   "cell_type": "code",
   "execution_count": 31,
   "metadata": {},
   "outputs": [
    {
     "name": "stdout",
     "output_type": "stream",
     "text": [
      "0 0.822 0.36237293068358867\n",
      "1 0.8769 0.1487148933685556\n",
      "2 0.8906 0.11207233636488068\n",
      "3 0.8979 0.09724282065219587\n",
      "4 0.9046 0.08846025802792229\n",
      "5 0.9074 0.08219776029699377\n",
      "6 0.9096 0.07733012579105723\n",
      "7 0.9121 0.07339573641009677\n",
      "8 0.9132 0.07015012513201556\n",
      "9 0.9141 0.06743525248980646\n",
      "10 0.9147 0.0651365631701975\n",
      "11 0.9166 0.06316616629606801\n",
      "12 0.9178 0.06145484581288914\n",
      "13 0.9189 0.059947607103372276\n",
      "14 0.9209 0.058600807210855935\n",
      "15 0.922 0.05737997909583032\n",
      "16 0.923 0.05625793412748917\n",
      "17 0.9245 0.055213062319514596\n",
      "18 0.9251 0.054227950218341495\n",
      "19 0.9261 0.053288416354056345\n",
      "20 0.9275 0.052382907640037266\n",
      "21 0.9284 0.05150209129022346\n",
      "22 0.9296 0.05063848709300385\n",
      "23 0.9313 0.04978606694498774\n",
      "24 0.9334 0.048939853922080875\n"
     ]
    }
   ],
   "source": [
    "w_h = init_weights((784, 625))\n",
    "w_o = init_weights((625, 10))\n",
    "\n",
    "h = T.nnet.sigmoid(T.dot(X, w_h))\n",
    "py_x = T.nnet.softmax(T.dot(h, w_o))\n",
    "y_x = T.argmax(py_x, axis = 1)\n",
    "\n",
    "cost = T.mean(T.nnet.categorical_crossentropy(py_x, Y))\n",
    "updates = [[w_h, w_h - T.grad(cost, w_h) * 0.1],\n",
    "          [w_o, w_o - T.grad(cost, w_o) * 0.1] ]\n",
    "\n",
    "train = theano.function(inputs = [X, Y], \n",
    "                        outputs = cost,\n",
    "                        updates = updates,\n",
    "                        allow_input_downcast = True)\n",
    "predict = theano.function(inputs = [X],\n",
    "                          outputs = y_x,\n",
    "                          allow_input_downcast = True)\n",
    "\n",
    "for i in range(num_iter):\n",
    "    for start, end in zip(range(0, len(trX), 128), range(128, len(trX), 128)):\n",
    "        cost = train(trX[start:end], trY[start:end])\n",
    "    print(i, np.mean(np.argmax(teY, axis=1) == predict(teX)), cost)"
   ]
  },
  {
   "cell_type": "markdown",
   "metadata": {},
   "source": [
    "## Dropout"
   ]
  },
  {
   "cell_type": "code",
   "execution_count": 32,
   "metadata": {},
   "outputs": [],
   "source": [
    "from theano.sandbox.rng_mrg import MRG_RandomStreams\n",
    "\n",
    "srng = MRG_RandomStreams()\n",
    "\n",
    "def dropout(X, p):\n",
    "    if p > 0:\n",
    "        X *= srng.binomial(X.shape, p = 1 - p, dtype = theano.config.floatX)\n",
    "        X /= 1 - p\n",
    "    return X\n",
    "\n",
    "def model(X, w_h, w_o, p_drop):\n",
    "    X = dropout(X, p_drop)\n",
    "    h = T.nnet.sigmoid(T.dot(X, w_h))\n",
    "    \n",
    "    h = dropout(h, p_drop)\n",
    "    py_x = T.nnet.softmax(T.dot(h, w_o))\n",
    "\n",
    "    return h, py_x"
   ]
  },
  {
   "cell_type": "code",
   "execution_count": 33,
   "metadata": {},
   "outputs": [
    {
     "name": "stdout",
     "output_type": "stream",
     "text": [
      "0 0.8219 0.3957172903715575\n",
      "1 0.8755 0.165488962604108\n",
      "2 0.8912 0.1220340771336103\n",
      "3 0.8996 0.10316331464621897\n",
      "4 0.9034 0.10217439540896484\n",
      "5 0.9078 0.09282362251902303\n",
      "6 0.9104 0.08441324633695113\n",
      "7 0.912 0.08075749585735027\n",
      "8 0.9146 0.08546835709820888\n",
      "9 0.9147 0.08424738792736222\n",
      "10 0.917 0.08135180798877242\n",
      "11 0.9186 0.07245332251946798\n",
      "12 0.9193 0.07664166731653027\n",
      "13 0.9212 0.08299408781345964\n",
      "14 0.9225 0.058104698419134536\n",
      "15 0.9237 0.07545332401788238\n",
      "16 0.9257 0.07843800839249337\n",
      "17 0.9271 0.0579392586601969\n",
      "18 0.9282 0.06447326420822277\n",
      "19 0.929 0.059603087653436096\n",
      "20 0.9309 0.06879348352260149\n",
      "21 0.9326 0.06578585420047688\n",
      "22 0.9338 0.048861316067085395\n",
      "23 0.9354 0.06026484407069606\n",
      "24 0.9365 0.04559941733149473\n"
     ]
    }
   ],
   "source": [
    "w_h = init_weights((784, 625))\n",
    "w_o = init_weights((625, 10))\n",
    "\n",
    "# Modelo de entrenamiento\n",
    "h, py_x = model(X, w_h, w_o, 0.05)\n",
    "y_x = T.argmax(py_x, axis = 1)\n",
    "\n",
    "cost = T.mean(T.nnet.categorical_crossentropy(py_x, Y))\n",
    "updates = [[w_h, w_h - T.grad(cost, w_h) * 0.1],\n",
    "          [w_o, w_o - T.grad(cost, w_o) * 0.1] ]\n",
    "\n",
    "train = theano.function(inputs = [X, Y], \n",
    "                        outputs = cost,\n",
    "                        updates = updates,\n",
    "                        allow_input_downcast = True)\n",
    "\n",
    "# Modelo para evaluación, con p == 0\n",
    "h_predict, py_predict = model(X, w_h, w_o, 0.0)\n",
    "y_predict = T.argmax(py_predict, axis = 1)\n",
    "\n",
    "predict = theano.function(inputs = [X],\n",
    "                          outputs = y_predict,\n",
    "                          allow_input_downcast = True)\n",
    "\n",
    "# Evaluación del modelo\n",
    "for i in range(num_iter):\n",
    "    for start, end in zip(range(0, len(trX), 128), range(128, len(trX), 128)):\n",
    "        cost = train(trX[start:end], trY[start:end])\n",
    "    print(i, np.mean(np.argmax(teY, axis=1) == predict(teX)), cost)"
   ]
  },
  {
   "cell_type": "code",
   "execution_count": null,
   "metadata": {},
   "outputs": [],
   "source": []
  }
 ],
 "metadata": {
  "kernelspec": {
   "display_name": "Python 3",
   "language": "python",
   "name": "python3"
  },
  "language_info": {
   "codemirror_mode": {
    "name": "ipython",
    "version": 3
   },
   "file_extension": ".py",
   "mimetype": "text/x-python",
   "name": "python",
   "nbconvert_exporter": "python",
   "pygments_lexer": "ipython3",
   "version": "3.6.4"
  }
 },
 "nbformat": 4,
 "nbformat_minor": 2
}
