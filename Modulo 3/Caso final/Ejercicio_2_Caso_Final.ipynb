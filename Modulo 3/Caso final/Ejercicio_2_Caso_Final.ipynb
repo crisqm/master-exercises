{
 "cells": [
  {
   "cell_type": "markdown",
   "metadata": {},
   "source": [
    "# Ejercicio 2 Caso Final"
   ]
  },
  {
   "cell_type": "code",
   "execution_count": 1,
   "metadata": {},
   "outputs": [
    {
     "name": "stdout",
     "output_type": "stream",
     "text": [
      "Using matplotlib backend: MacOSX\n",
      "Populating the interactive namespace from numpy and matplotlib\n"
     ]
    }
   ],
   "source": [
    "%pylab\n",
    "%matplotlib inline\n",
    "\n",
    "%config InlineBackend.figure_format = 'retina'"
   ]
  },
  {
   "cell_type": "code",
   "execution_count": 2,
   "metadata": {},
   "outputs": [],
   "source": [
    "import theano\n",
    "import theano.tensor as T"
   ]
  },
  {
   "cell_type": "code",
   "execution_count": 6,
   "metadata": {},
   "outputs": [
    {
     "name": "stdout",
     "output_type": "stream",
     "text": [
      "En el paso 0 el valor de w_0 es 0.20515515094330444 y w_1 es 0.16795691644591773 con un coste 0.1637141195623326\n",
      "En el paso 1 el valor de w_0 es 0.3135212019427269 y w_1 es 0.25365584987468387 con un coste 0.05119411596747512\n",
      "En el paso 2 el valor de w_0 es 0.3795534038780695 y w_1 es 0.29563177791619566 con un coste 0.017453568647726396\n",
      "En el paso 3 el valor de w_0 es 0.4222251072198839 y w_1 es 0.31567341252749886 con un coste 0.0063943935670993605\n",
      "En el paso 4 el valor de w_0 es 0.4506241381900727 y w_1 es 0.32495801327683405 con un coste 0.0024993528779193937\n",
      "En el paso 5 el valor de w_0 es 0.46983472027277806 y w_1 es 0.3290671271046597 con un coste 0.0010365229408349338\n",
      "En el paso 6 el valor de w_0 es 0.4829550095545073 y w_1 es 0.3307446362226897 con un coste 0.0004540625032738696\n",
      "En el paso 7 el valor de w_0 es 0.49196871117015395 y w_1 es 0.3313192926092271 con un coste 0.00020949105222363765\n",
      "En el paso 8 el valor de w_0 es 0.49818422622008923 y w_1 es 0.3314224238353151 con un coste 0.00010171498526049503\n",
      "En el paso 9 el valor de w_0 es 0.5024804806353149 y w_1 es 0.3313457833635297 con un coste 5.205816974571303e-05\n",
      "En el paso 10 el valor de w_0 es 0.5054547505133834 y w_1 es 0.33121832138252016 con un coste 2.8194028571850914e-05\n",
      "En el paso 11 el valor de w_0 es 0.5075159330135213 y w_1 es 0.33109264460094695 con un coste 1.6243281308435917e-05\n",
      "En el paso 12 el valor de w_0 es 0.5089453118212184 y w_1 es 0.33098677251421316 con un coste 1.0007282031259052e-05\n",
      "En el paso 13 el valor de w_0 es 0.5099369971170696 y w_1 es 0.33090394624888575 con un coste 6.616312539531627e-06\n",
      "En el paso 14 el valor de w_0 es 0.5106252220904405 y w_1 es 0.3308417741832657 con un coste 4.695985030356284e-06\n"
     ]
    }
   ],
   "source": [
    "# Creacion de los datos de estudio\n",
    "trX = np.linspace(-1, 1, 101)\n",
    "trY = np.linspace(-1, 1, 101)\n",
    "\n",
    "for i in range(len(trY)):\n",
    "    trY[i] = math.log(1 + 0.5 * abs(trX[i])) + trX[i] / 3 + np.random.randn() * 0.033\n",
    "\n",
    "# Se crean dos tensores para utilizar posteriormente en la funcion de entrenamiento\n",
    "X = T.scalar()\n",
    "Y = T.scalar()\n",
    "\n",
    "# Se definen los parametros w_0 y W_1\n",
    "w_0 = theano.shared(np.asarray(0., dtype = theano.config.floatX))\n",
    "w_1 = theano.shared(np.asarray(0., dtype = theano.config.floatX))\n",
    "\n",
    "# La variable y sera la que contenga el modelo\n",
    "y = T.log(1 + w_0 * T.abs_(X)) + w_1 * X\n",
    "\n",
    "# Se definen las funciones de coste, gradiente y updates\n",
    "cost     = T.mean(T.sqr(y - Y))\n",
    "gradient_w_0 = T.grad(cost = cost, wrt = w_0)\n",
    "gradient_w_1 = T.grad(cost = cost, wrt = w_1)\n",
    "updates  = [[w_0, w_0 - gradient_w_0 * 0.01], [w_1, w_1 - gradient_w_1 * 0.01]]\n",
    "\n",
    "# Se define la funcion de entrenamiento con theano donde las entradas seran los tensores X e Y y la salida el coste\n",
    "train = theano.function(inputs = [X, Y], outputs = cost, updates = updates)\n",
    "\n",
    "# Se muestran los primeros 15 valores para los parametros w_0 y W_1\n",
    "for i in range(15):\n",
    "    for x, y in zip(trX, trY):\n",
    "        cost_i = train(x, y)\n",
    "    print('En el paso', i, 'el valor de w_0 es', w_0.get_value(),\n",
    "           'y w_1 es', w_1.get_value(), 'con un coste', cost_i)"
   ]
  }
 ],
 "metadata": {
  "kernelspec": {
   "display_name": "Python 3",
   "language": "python",
   "name": "python3"
  },
  "language_info": {
   "codemirror_mode": {
    "name": "ipython",
    "version": 3
   },
   "file_extension": ".py",
   "mimetype": "text/x-python",
   "name": "python",
   "nbconvert_exporter": "python",
   "pygments_lexer": "ipython3",
   "version": "3.6.4"
  }
 },
 "nbformat": 4,
 "nbformat_minor": 2
}
