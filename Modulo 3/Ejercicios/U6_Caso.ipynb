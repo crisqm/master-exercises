{
 "cells": [
  {
   "cell_type": "markdown",
   "metadata": {},
   "source": [
    "# Unidad 5: Caso práctico"
   ]
  },
  {
   "cell_type": "code",
   "execution_count": 3,
   "metadata": {},
   "outputs": [
    {
     "name": "stdout",
     "output_type": "stream",
     "text": [
      "Using matplotlib backend: MacOSX\n",
      "Populating the interactive namespace from numpy and matplotlib\n"
     ]
    }
   ],
   "source": [
    "%pylab\n",
    "%matplotlib inline\n",
    "\n",
    "%config InlineBackend.figure_format = 'retina'"
   ]
  },
  {
   "cell_type": "markdown",
   "metadata": {},
   "source": [
    "# Red neuronal con Theano.\n",
    "Implementar y entrenar con Theano una red neuronal que reproduzca una operación XOR de tres entradas, es decir que reproduzca la tabla:\n",
    "\n",
    "| Entrada 1\t| Entrada 2\t| Entrada 3\t| Salida |\n",
    "|-----------|-----------|-----------|--------|\n",
    "| 0 | 0 | 0 | 0 |\n",
    "| 0\t| 0\t| 1\t| 1 |\n",
    "| 0\t| 1\t| 0\t| 1 |\n",
    "| 0\t| 1\t| 1\t| 0 |\n",
    "| 1\t| 0\t| 0\t| 1 |\n",
    "| 1\t| 0\t| 1\t| 0 |\n",
    "| 1\t| 1\t| 0\t| 0 |\n",
    "| 1\t| 1\t| 1\t| 1 |\n",
    "\n",
    "En este caso tenemos tres entradas, por lo que vamos a utilizar una capa con tres neuronas para intentar predecir el resultado. En el diseño de la red neuronal se ha de tener en cuenta que los vectores de peso tienen que tener tres elementos. Un ejemplo de red neuronal para este problema puede ser de la forma\n",
    "\n",
    "![Modelo red neuronal](U5_Caso.001.jpeg)\n",
    "\n",
    "Donde se han omitido el nombre de los pesos para simplificar la gráfica. Ahora se puede definir la red."
   ]
  },
  {
   "cell_type": "code",
   "execution_count": 4,
   "metadata": {},
   "outputs": [],
   "source": [
    "import theano\n",
    "import theano.tensor as T"
   ]
  },
  {
   "cell_type": "code",
   "execution_count": 5,
   "metadata": {},
   "outputs": [],
   "source": [
    "x = T.matrix('x')\n",
    "w1 = theano.shared(np.array([-1, 0, 1], dtype = theano.config.floatX))\n",
    "w2 = theano.shared(np.array([0, 1, -1], dtype = theano.config.floatX))\n",
    "w3 = theano.shared(np.array([1, -1, 1], dtype = theano.config.floatX))\n",
    "w4 = theano.shared(np.array([1, 2, 3], dtype = theano.config.floatX))\n",
    "b1 = theano.shared(1.)\n",
    "b2 = theano.shared(1.)\n",
    "learning_rate = 0.01\n",
    "\n",
    "a1 = 1 / (1 + T.exp(-T.dot(x, w1) - b1))\n",
    "a2 = 1 / (1 + T.exp(-T.dot(x, w2) - b1))\n",
    "a3 = 1 / (1 + T.exp(-T.dot(x, w3) - b1))\n",
    "x2 = T.stack([a1, a2, a3], axis = 1)\n",
    "\n",
    "a4 = 1 / (1 + T.exp(-T.dot(x2, w4) - b2))"
   ]
  },
  {
   "cell_type": "markdown",
   "metadata": {},
   "source": [
    "Ahora se ha de calcular la función que permite actualizar las variables compartidas."
   ]
  },
  {
   "cell_type": "code",
   "execution_count": 6,
   "metadata": {},
   "outputs": [],
   "source": [
    "a_hat = T.vector('a_hat')\n",
    "cost = -(a_hat * T.log(a4) + (1 - a_hat) * T.log(1 - a4)).sum()\n",
    "dw1, dw2, dw3, dw4, db1, db2 = T.grad(cost, [w1, w2, w3, w4, b1, b2])\n",
    "\n",
    "train = theano.function(\n",
    "    inputs = [x, a_hat],\n",
    "    outputs = [a4, cost],\n",
    "    updates = [\n",
    "        [w1, w1 - learning_rate * dw1],\n",
    "        [w2, w2 - learning_rate * dw2],\n",
    "        [w3, w3 - learning_rate * dw3],\n",
    "        [w4, w4 - learning_rate * dw4],\n",
    "        [b1, b1 - learning_rate * db1],\n",
    "        [b2, b2 - learning_rate * db2]\n",
    "    ]\n",
    ")"
   ]
  },
  {
   "cell_type": "markdown",
   "metadata": {},
   "source": [
    "Con esto se puede proceder al entrenamiento de la red."
   ]
  },
  {
   "cell_type": "code",
   "execution_count": 7,
   "metadata": {},
   "outputs": [
    {
     "name": "stdout",
     "output_type": "stream",
     "text": [
      "Los resultados de la red son:\n",
      "El resultado para [0, 0, 0] es 0.00\n",
      "El resultado para [0, 1, 0] es 0.99\n",
      "El resultado para [1, 0, 0] es 0.99\n",
      "El resultado para [1, 1, 0] es 0.01\n",
      "El resultado para [0, 0, 1] es 0.99\n",
      "El resultado para [0, 1, 1] es 0.01\n",
      "El resultado para [1, 0, 1] es 0.01\n",
      "El resultado para [1, 1, 1] es 1.00\n",
      "El vector w1 es [-8.68, 5.62, 5.19]\n",
      "El vector w2 es [3.98, 4.10, 5.19]\n",
      "El vector w3 es [6.69, -10.29, 5.19]\n",
      "El vector w4 es [10.29, 10.49, 5.19]\n",
      "El valor del bias 1 es -1.06\n",
      "El valor del bias 2 es -15.36\n"
     ]
    },
    {
     "data": {
      "text/plain": [
       "[<matplotlib.lines.Line2D at 0x1c17f23898>]"
      ]
     },
     "execution_count": 7,
     "metadata": {},
     "output_type": "execute_result"
    },
    {
     "data": {
      "image/png": "[encoded data removed]",
      "text/plain": [
       "<matplotlib.figure.Figure at 0x10d17d6d8>"
      ]
     },
     "metadata": {
      "image/png": {
       "height": 250,
       "width": 370
      }
     },
     "output_type": "display_data"
    }
   ],
   "source": [
    "inputs = [[0, 0, 0], [0, 1, 0], [1, 0, 0], [1, 1, 0], [0, 0, 1], [0, 1, 1], [1, 0, 1], [1, 1, 1]]\n",
    "outputs = [0, 1, 1, 0, 1, 0, 0, 1]\n",
    "\n",
    "# Iteramos sobre el conjunto de entrenamiento \n",
    "cost = []\n",
    "for iteration in range(50000):\n",
    "    pred, cost_iter = train(inputs, outputs)\n",
    "    cost.append(cost_iter)\n",
    "    \n",
    "# Se imprimen los resultados por pantalla\n",
    "print('Los resultados de la red son:')\n",
    "for i in range(len(inputs)):\n",
    "    print('El resultado para [%d, %d, %d] es %.2f' % (inputs[i][0], inputs[i][1], inputs[i][2], pred[i]))\n",
    "\n",
    "# Resultados\n",
    "print\n",
    "print('El vector w1 es [%.2f, %.2f, %.2f]' % (w1.get_value()[0], w1.get_value()[1], w1.get_value()[2]))\n",
    "print('El vector w2 es [%.2f, %.2f, %.2f]' % (w2.get_value()[0], w2.get_value()[1], w1.get_value()[2]))\n",
    "print('El vector w3 es [%.2f, %.2f, %.2f]' % (w3.get_value()[0], w3.get_value()[1], w1.get_value()[2]))\n",
    "print('El vector w4 es [%.2f, %.2f, %.2f]' % (w4.get_value()[0], w4.get_value()[1], w1.get_value()[2]))\n",
    "print('El valor del bias 1 es %.2f' % b1.get_value())\n",
    "print('El valor del bias 2 es %.2f' % b2.get_value())\n",
    "\n",
    "# Función de esfuerzo en función del número de iteraciones\n",
    "plt.plot(cost)"
   ]
  },
  {
   "cell_type": "markdown",
   "metadata": {},
   "source": [
    "Al revisar los resultados podemos ver que se reproducen los resultados deseados con una gran precisión. En la gráfica se puede apreciar que en este problema hay dos puntos en los que la función de esfuerzo se reduce."
   ]
  }
 ],
 "metadata": {
  "anaconda-cloud": {},
  "kernelspec": {
   "display_name": "Python 3",
   "language": "python",
   "name": "python3"
  },
  "language_info": {
   "codemirror_mode": {
    "name": "ipython",
    "version": 3
   },
   "file_extension": ".py",
   "mimetype": "text/x-python",
   "name": "python",
   "nbconvert_exporter": "python",
   "pygments_lexer": "ipython3",
   "version": "3.6.4"
  }
 },
 "nbformat": 4,
 "nbformat_minor": 1
}
