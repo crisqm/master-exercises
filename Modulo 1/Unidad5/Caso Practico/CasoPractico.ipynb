{
 "cells": [
  {
   "cell_type": "code",
   "execution_count": 19,
   "metadata": {},
   "outputs": [],
   "source": [
    "import csv\n",
    "\n",
    "#Abrir fichero de entrada para lectura\n",
    "pitchingPost=open(\"PitchingPost.csv\")\n",
    "pitchingPostReader=csv.reader(pitchingPost)\n",
    "\n",
    "#Al leer hay que evitar la linea de cabecera\n",
    "next(pitchingPostReader)\n",
    "\n",
    "anios=dict()\n",
    "\n",
    "#Recorrer el fichero linea a linea y recuperar el año\n",
    "for row in pitchingPostReader:\n",
    "    anio=int(row[1])\n",
    "    if anio in anios:\n",
    "        anios[anio] = anios[anio] + 1\n",
    "    else:\n",
    "        anios[anio] = 1\n",
    "\n",
    "#Abrir fichero de salida en modo escritura\n",
    "acumAnnos=open(\"AcumAnnos.csv\", \"w\")\n",
    "acumAnnosWriter=csv.writer(acumAnnos)\n",
    "\n",
    "acumAnnosWriter.writerow([\"Años,Frecuencia\"])\n",
    "for anio in anios:\n",
    "    acumAnnosWriter.writerow([anio, anios[anio]])\n",
    "    \n",
    "acumAnnos.close()"
   ]
  },
  {
   "cell_type": "code",
   "execution_count": null,
   "metadata": {},
   "outputs": [],
   "source": []
  }
 ],
 "metadata": {
  "kernelspec": {
   "display_name": "Python 3",
   "language": "python",
   "name": "python3"
  },
  "language_info": {
   "codemirror_mode": {
    "name": "ipython",
    "version": 3
   },
   "file_extension": ".py",
   "mimetype": "text/x-python",
   "name": "python",
   "nbconvert_exporter": "python",
   "pygments_lexer": "ipython3",
   "version": "3.6.4"
  }
 },
 "nbformat": 4,
 "nbformat_minor": 2
}
