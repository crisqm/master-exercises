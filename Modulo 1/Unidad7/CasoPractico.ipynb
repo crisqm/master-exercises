{
 "cells": [
  {
   "cell_type": "code",
   "execution_count": 5,
   "metadata": {},
   "outputs": [
    {
     "name": "stdout",
     "output_type": "stream",
     "text": [
      "Euskadi      2500\n",
      "Murcia       1800\n",
      "Madrid       1900\n",
      "Barcelona    2000\n",
      "Zaragoza     2100\n",
      "dtype: int64\n",
      "Euskadi      2300\n",
      "Murcia       1600\n",
      "Madrid       1980\n",
      "Barcelona    1900\n",
      "Córdoba      2150\n",
      "dtype: int64\n",
      "Barcelona    100.0\n",
      "Córdoba        NaN\n",
      "Euskadi      200.0\n",
      "Madrid       -80.0\n",
      "Murcia       200.0\n",
      "Zaragoza       NaN\n",
      "dtype: float64\n"
     ]
    },
    {
     "data": {
      "text/plain": [
       "Euskadi    200.0\n",
       "Murcia     200.0\n",
       "dtype: float64"
      ]
     },
     "execution_count": 5,
     "metadata": {},
     "output_type": "execute_result"
    }
   ],
   "source": [
    "import numpy as np\n",
    "import pandas as pd\n",
    "from pandas import *\n",
    "\n",
    "sueldos_hombres=pd.Series([2500,1800,1900,2000,2100], index=[\"Euskadi\", \"Murcia\", \"Madrid\", \"Barcelona\", \"Zaragoza\"])\n",
    "print(sueldos_hombres)\n",
    "sueldos_mujeres=pd.Series([2300,1600,1980,1900,2150], index=[\"Euskadi\", \"Murcia\", \"Madrid\", \"Barcelona\",\"Córdoba\"])\n",
    "print(sueldos_mujeres)\n",
    "\n",
    "difsueldos=sueldos_hombres - sueldos_mujeres\n",
    "print(difsueldos)\n",
    "\n",
    "mascara=(difsueldos>100)\n",
    "difsueldos[mascara]"
   ]
  },
  {
   "cell_type": "code",
   "execution_count": null,
   "metadata": {},
   "outputs": [],
   "source": []
  }
 ],
 "metadata": {
  "kernelspec": {
   "display_name": "Python 3",
   "language": "python",
   "name": "python3"
  },
  "language_info": {
   "codemirror_mode": {
    "name": "ipython",
    "version": 3
   },
   "file_extension": ".py",
   "mimetype": "text/x-python",
   "name": "python",
   "nbconvert_exporter": "python",
   "pygments_lexer": "ipython3",
   "version": "3.6.4"
  }
 },
 "nbformat": 4,
 "nbformat_minor": 2
}
