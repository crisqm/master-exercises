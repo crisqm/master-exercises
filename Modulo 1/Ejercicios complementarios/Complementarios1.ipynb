{
 "cells": [
  {
   "cell_type": "code",
   "execution_count": 3,
   "metadata": {},
   "outputs": [
    {
     "data": {
      "text/plain": [
       "12"
      ]
     },
     "execution_count": 3,
     "metadata": {},
     "output_type": "execute_result"
    }
   ],
   "source": [
    "#Función que retorne el mayor de dos números o 0 si son iguales\n",
    "def mayor(val1, val2):\n",
    "    if val1 == val2:\n",
    "        return 0\n",
    "    elif val1 > val2:\n",
    "        return val1\n",
    "    else:\n",
    "        return val2\n",
    "    \n",
    "mayor(12,1)"
   ]
  },
  {
   "cell_type": "code",
   "execution_count": 8,
   "metadata": {},
   "outputs": [
    {
     "data": {
      "text/plain": [
       "True"
      ]
     },
     "execution_count": 8,
     "metadata": {},
     "output_type": "execute_result"
    }
   ],
   "source": [
    "#Función que determine si una persona es mayor de edad o no\n",
    "def mayoredad(edad):\n",
    "    if edad >= 18:\n",
    "        return True\n",
    "    else:\n",
    "        return False\n",
    "    \n",
    "mayoredad(100)"
   ]
  },
  {
   "cell_type": "code",
   "execution_count": 9,
   "metadata": {},
   "outputs": [
    {
     "data": {
      "text/plain": [
       "True"
      ]
     },
     "execution_count": 9,
     "metadata": {},
     "output_type": "execute_result"
    }
   ],
   "source": [
    "#Programar una función que determine si una empresa es microempresa o no\n",
    "def microempresa(empleados, facturacion, balance):\n",
    "    if empleados < 50 and facturacion < 30000000 and balance <= 5000000:\n",
    "        return True\n",
    "    else:\n",
    "        return False\n",
    "    \n",
    "microempresa(23, 100000, 1000)"
   ]
  },
  {
   "cell_type": "code",
   "execution_count": null,
   "metadata": {},
   "outputs": [],
   "source": []
  }
 ],
 "metadata": {
  "kernelspec": {
   "display_name": "Python 3",
   "language": "python",
   "name": "python3"
  },
  "language_info": {
   "codemirror_mode": {
    "name": "ipython",
    "version": 3
   },
   "file_extension": ".py",
   "mimetype": "text/x-python",
   "name": "python",
   "nbconvert_exporter": "python",
   "pygments_lexer": "ipython3",
   "version": "3.6.4"
  }
 },
 "nbformat": 4,
 "nbformat_minor": 2
}
